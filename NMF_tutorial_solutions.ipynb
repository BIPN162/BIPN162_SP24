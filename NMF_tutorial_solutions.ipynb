{
 "cells": [
  {
   "cell_type": "markdown",
   "id": "46b98a52-e92b-4ff5-a2bf-692c3496cef2",
   "metadata": {},
   "source": [
    "# Matrix Factorization \n",
    "### Application to an auditory fMRI dataset"
   ]
  },
  {
   "cell_type": "markdown",
   "id": "9a9446ce-9339-417c-9ded-d6466746dd2c",
   "metadata": {},
   "source": [
    "### Tutorial Objectives\n",
    "\n",
    "In this tutorial, we'll apply non-negative matrix factorization to an auditory fMRI data where participants listened to 165 natural sounds.\n",
    "Here, we will:\n",
    "\n",
    "1.\tLoad the preprocessed fMRI data and understand the data attributes and perform some basic visualizations <br>\n",
    "2.\tApply and compare two different versions of the non-negative matrix factorization algorithm <br>\n",
    "3.  Plot how the reconstruction error varies as a a function of the number of components <br>\n",
    "4.  Interpret the response profiles of the resulting components to search for music and speech-selective neural populations <br>"
   ]
  },
  {
   "cell_type": "markdown",
   "id": "3ec5374b-36e5-472f-b667-9ea349dfbc85",
   "metadata": {},
   "source": [
    "<b>Motivation: </b>When we measure voxel response with fMRI, we measure an aggregated activity across hundreds of thousands of neurons. Presumably, there are a relatively small number of types of neural populations in these voxels. Each of these neural population will have a distinctive response profile over the sound set.\n",
    "And voxels have different proportions of the different neural population types.\n",
    "But what we measure in an fMRI experiment is the voxel’s response to sounds and our goal is to recover the response profiles of different neural populations and their anatomical proportions within every voxel (i.e. to demix the voxel responses).  \n"
   ]
  },
  {
   "cell_type": "code",
   "execution_count": 19,
   "id": "0058ba31-7dcd-4346-9c5e-3706a52ed300",
   "metadata": {},
   "outputs": [
    {
     "name": "stdout",
     "output_type": "stream",
     "text": [
      "Collecting playsound\n",
      "  Downloading playsound-1.3.0.tar.gz (7.7 kB)\n",
      "  Preparing metadata (setup.py) ... \u001b[?25ldone\n",
      "\u001b[?25hBuilding wheels for collected packages: playsound\n",
      "  Building wheel for playsound (setup.py) ... \u001b[?25ldone\n",
      "\u001b[?25h  Created wheel for playsound: filename=playsound-1.3.0-py3-none-any.whl size=7020 sha256=b9b5ff12a34df3787af48d853055c11699bb3a10ec901b5cd0e417dea8a0d0d6\n",
      "  Stored in directory: /Users/meenakshi/Library/Caches/pip/wheels/50/98/42/62753a9e1fb97579a0ce2f84f7db4c21c09d03bb2091e6cef4\n",
      "Successfully built playsound\n",
      "Installing collected packages: playsound\n",
      "Successfully installed playsound-1.3.0\n",
      "Requirement already satisfied: nimfa in /opt/anaconda3/lib/python3.11/site-packages (1.4.0)\n",
      "Requirement already satisfied: numpy>=1.7.0 in /opt/anaconda3/lib/python3.11/site-packages (from nimfa) (1.23.5)\n",
      "Requirement already satisfied: scipy>=0.12.0 in /opt/anaconda3/lib/python3.11/site-packages (from nimfa) (1.10.1)\n"
     ]
    }
   ],
   "source": [
    "# Installing the required libraries\n",
    "!pip install playsound\n",
    "!pip install nimfa"
   ]
  },
  {
   "cell_type": "code",
   "execution_count": 80,
   "id": "ce44cd28-c187-4406-a966-1ded5bb0ae30",
   "metadata": {},
   "outputs": [],
   "source": [
    "import scipy.io as sio\n",
    "import nimfa \n",
    "from playsound import playsound\n",
    "import numpy as np\n",
    "import matplotlib.pyplot as plt \n",
    "import glob, os, requests\n",
    "import pandas as pd\n",
    "import seaborn as sns"
   ]
  },
  {
   "cell_type": "markdown",
   "id": "e0722b5d-d3d0-48ed-8ae0-d9741fe9c15e",
   "metadata": {},
   "source": [
    "### Downloading the data"
   ]
  },
  {
   "cell_type": "code",
   "execution_count": 81,
   "id": "089d7450-eb6d-49ae-93b7-2a1209ace66d",
   "metadata": {},
   "outputs": [
    {
     "name": "stdout",
     "output_type": "stream",
     "text": [
      "Archive:  data.zip\n",
      "   creating: data/\n",
      "  inflating: data/.DS_Store          \n",
      "  inflating: __MACOSX/data/._.DS_Store  \n",
      "  inflating: data/data_matrix.mat    \n",
      "  inflating: __MACOSX/data/._data_matrix.mat  \n",
      "   creating: data/stimuli/\n",
      "  inflating: __MACOSX/data/._stimuli  \n",
      "  inflating: data/stimuli/category_labels.csv  \n",
      "  inflating: __MACOSX/data/stimuli/._category_labels.csv  \n",
      "   creating: data/stimuli/wav/\n",
      "  inflating: __MACOSX/data/stimuli/._wav  \n",
      "  inflating: data/stimuli/.DS_Store  \n",
      "  inflating: __MACOSX/data/stimuli/._.DS_Store  \n",
      "   creating: data/stimuli/.ipynb_checkpoints/\n",
      "  inflating: data/stimuli/wav/stim83_cicadas.wav  \n",
      "  inflating: __MACOSX/data/stimuli/wav/._stim83_cicadas.wav  \n",
      "  inflating: data/stimuli/wav/stim387_typing.wav  \n",
      "  inflating: __MACOSX/data/stimuli/wav/._stim387_typing.wav  \n",
      "  inflating: data/stimuli/wav/stim224_walking_on_leaves.wav  \n",
      "  inflating: __MACOSX/data/stimuli/wav/._stim224_walking_on_leaves.wav  \n",
      "  inflating: data/stimuli/wav/stim29_biting_and_chewing.wav  \n",
      "  inflating: __MACOSX/data/stimuli/wav/._stim29_biting_and_chewing.wav  \n",
      "  inflating: data/stimuli/wav/stim488_busy_signal.wav  \n",
      "  inflating: __MACOSX/data/stimuli/wav/._stim488_busy_signal.wav  \n",
      "  inflating: data/stimuli/wav/stim232_man_speaking.wav  \n",
      "  inflating: __MACOSX/data/stimuli/wav/._stim232_man_speaking.wav  \n",
      "  inflating: data/stimuli/wav/stim158_flushing.wav  \n",
      "  inflating: __MACOSX/data/stimuli/wav/._stim158_flushing.wav  \n",
      "  inflating: data/stimuli/wav/stim405_whispering.wav  \n",
      "  inflating: __MACOSX/data/stimuli/wav/._stim405_whispering.wav  \n",
      "  inflating: data/stimuli/wav/stim33_bluegrass.wav  \n",
      "  inflating: __MACOSX/data/stimuli/wav/._stim33_bluegrass.wav  \n",
      "  inflating: data/stimuli/wav/stim155_flag_flapping.wav  \n",
      "  inflating: __MACOSX/data/stimuli/wav/._stim155_flag_flapping.wav  \n",
      "  inflating: data/stimuli/wav/stim186_hammering.wav  \n",
      "  inflating: __MACOSX/data/stimuli/wav/._stim186_hammering.wav  \n",
      "  inflating: data/stimuli/wav/stim512_heart_beat.wav  \n",
      "  inflating: __MACOSX/data/stimuli/wav/._stim512_heart_beat.wav  \n",
      "  inflating: data/stimuli/wav/stim517_soundtrack_from_an_action_scene.wav  \n",
      "  inflating: __MACOSX/data/stimuli/wav/._stim517_soundtrack_from_an_action_scene.wav  \n",
      "  inflating: data/stimuli/wav/stim197_road_traffic.wav  \n",
      "  inflating: __MACOSX/data/stimuli/wav/._stim197_road_traffic.wav  \n",
      "  inflating: data/stimuli/wav/stim332_angry_shouting.wav  \n",
      "  inflating: __MACOSX/data/stimuli/wav/._stim332_angry_shouting.wav  \n",
      "  inflating: data/stimuli/wav/stim524_cartoon_sound_effects.wav  \n",
      "  inflating: __MACOSX/data/stimuli/wav/._stim524_cartoon_sound_effects.wav  \n",
      "  inflating: data/stimuli/wav/stim411_car_power_windows.wav  \n",
      "  inflating: __MACOSX/data/stimuli/wav/._stim411_car_power_windows.wav  \n",
      "  inflating: data/stimuli/wav/stim498_computer_startup_sound.wav  \n",
      "  inflating: __MACOSX/data/stimuli/wav/._stim498_computer_startup_sound.wav  \n",
      "  inflating: data/stimuli/wav/stim289_rap_song.wav  \n",
      "  inflating: __MACOSX/data/stimuli/wav/._stim289_rap_song.wav  \n",
      "  inflating: data/stimuli/wav/stim18_basketball_dribbling.wav  \n",
      "  inflating: __MACOSX/data/stimuli/wav/._stim18_basketball_dribbling.wav  \n",
      "  inflating: data/stimuli/wav/stim394_violin.wav  \n",
      "  inflating: __MACOSX/data/stimuli/wav/._stim394_violin.wav  \n",
      "  inflating: data/stimuli/wav/stim364_tearing.wav  \n",
      "  inflating: __MACOSX/data/stimuli/wav/._stim364_tearing.wav  \n",
      "  inflating: data/stimuli/wav/stim35_boiling_water.wav  \n",
      "  inflating: __MACOSX/data/stimuli/wav/._stim35_boiling_water.wav  \n",
      "  inflating: data/stimuli/wav/stim136_drum_roll.wav  \n",
      "  inflating: __MACOSX/data/stimuli/wav/._stim136_drum_roll.wav  \n",
      "  inflating: data/stimuli/wav/stim25_bike_bell.wav  \n",
      "  inflating: __MACOSX/data/stimuli/wav/._stim25_bike_bell.wav  \n",
      "  inflating: data/stimuli/wav/stim504_german.wav  \n",
      "  inflating: __MACOSX/data/stimuli/wav/._stim504_german.wav  \n",
      "  inflating: data/stimuli/wav/stim236_microwave_running.wav  \n",
      "  inflating: __MACOSX/data/stimuli/wav/._stim236_microwave_running.wav  \n",
      "  inflating: data/stimuli/wav/stim437_contemporary_pop_song.wav  \n",
      "  inflating: __MACOSX/data/stimuli/wav/._stim437_contemporary_pop_song.wav  \n",
      "  inflating: data/stimuli/wav/stim312_wind.wav  \n",
      "  inflating: __MACOSX/data/stimuli/wav/._stim312_wind.wav  \n",
      "  inflating: data/stimuli/wav/stim138_duck_quack.wav  \n",
      "  inflating: __MACOSX/data/stimuli/wav/._stim138_duck_quack.wav  \n",
      "  inflating: data/stimuli/wav/stim254_orchestra_music.wav  \n",
      "  inflating: __MACOSX/data/stimuli/wav/._stim254_orchestra_music.wav  \n",
      "  inflating: data/stimuli/wav/stim347_songbird.wav  \n",
      "  inflating: __MACOSX/data/stimuli/wav/._stim347_songbird.wav  \n",
      "  inflating: data/stimuli/wav/stim268_piano.wav  \n",
      "  inflating: __MACOSX/data/stimuli/wav/._stim268_piano.wav  \n",
      "  inflating: data/stimuli/wav/.DS_Store  \n",
      "  inflating: __MACOSX/data/stimuli/wav/._.DS_Store  \n",
      "  inflating: data/stimuli/wav/stim193_heavy_metal_music.wav  \n",
      "  inflating: __MACOSX/data/stimuli/wav/._stim193_heavy_metal_music.wav  \n",
      "  inflating: data/stimuli/wav/stim167_gargling.wav  \n",
      "  inflating: __MACOSX/data/stimuli/wav/._stim167_gargling.wav  \n",
      "  inflating: data/stimuli/wav/stim490_soundtrack_from_a_western.wav  \n",
      "  inflating: __MACOSX/data/stimuli/wav/._stim490_soundtrack_from_a_western.wav  \n",
      "  inflating: data/stimuli/wav/stim108_telephone_dialing.wav  \n",
      "  inflating: __MACOSX/data/stimuli/wav/._stim108_telephone_dialing.wav  \n",
      "  inflating: data/stimuli/wav/stim11_baby_crying.wav  \n",
      "  inflating: __MACOSX/data/stimuli/wav/._stim11_baby_crying.wav  \n",
      "  inflating: data/stimuli/wav/stim318_school_bell.wav  \n",
      "  inflating: __MACOSX/data/stimuli/wav/._stim318_school_bell.wav  \n",
      "  inflating: data/stimuli/wav/stim41_breathing.wav  \n",
      "  inflating: __MACOSX/data/stimuli/wav/._stim41_breathing.wav  \n",
      "  inflating: data/stimuli/wav/stim309_running_up_stairs.wav  \n",
      "  inflating: __MACOSX/data/stimuli/wav/._stim309_running_up_stairs.wav  \n",
      "  inflating: data/stimuli/wav/stim117_dog_drinking.wav  \n",
      "  inflating: __MACOSX/data/stimuli/wav/._stim117_dog_drinking.wav  \n",
      "  inflating: data/stimuli/wav/stim162_frog_croaking.wav  \n",
      "  inflating: __MACOSX/data/stimuli/wav/._stim162_frog_croaking.wav  \n",
      "  inflating: data/stimuli/wav/stim116_dog_barking.wav  \n",
      "  inflating: __MACOSX/data/stimuli/wav/._stim116_dog_barking.wav  \n",
      "  inflating: data/stimuli/wav/stim200_humming.wav  \n",
      "  inflating: __MACOSX/data/stimuli/wav/._stim200_humming.wav  \n",
      "  inflating: data/stimuli/wav/stim398_walking_on_gravel.wav  \n",
      "  inflating: __MACOSX/data/stimuli/wav/._stim398_walking_on_gravel.wav  \n",
      "  inflating: data/stimuli/wav/stim508_russian.wav  \n",
      "  inflating: __MACOSX/data/stimuli/wav/._stim508_russian.wav  \n",
      "  inflating: data/stimuli/wav/stim68_cat_meowing.wav  \n",
      "  inflating: __MACOSX/data/stimuli/wav/._stim68_cat_meowing.wav  \n",
      "  inflating: data/stimuli/wav/stim60_car_horn.wav  \n",
      "  inflating: __MACOSX/data/stimuli/wav/._stim60_car_horn.wav  \n",
      "  inflating: data/stimuli/wav/stim370_toothbrushing.wav  \n",
      "  inflating: __MACOSX/data/stimuli/wav/._stim370_toothbrushing.wav  \n",
      "  inflating: data/stimuli/wav/stim401_walking_with_heels.wav  \n",
      "  inflating: __MACOSX/data/stimuli/wav/._stim401_walking_with_heels.wav  \n",
      "  inflating: data/stimuli/wav/stim371_squeaky_toy.wav  \n",
      "  inflating: __MACOSX/data/stimuli/wav/._stim371_squeaky_toy.wav  \n",
      "  inflating: data/stimuli/wav/stim292_crow.wav  \n",
      "  inflating: __MACOSX/data/stimuli/wav/._stim292_crow.wav  \n",
      "  inflating: data/stimuli/wav/stim209_kettle_whistling.wav  \n",
      "  inflating: __MACOSX/data/stimuli/wav/._stim209_kettle_whistling.wav  \n",
      "  inflating: data/stimuli/wav/stim105_cutting_with_scissors.wav  \n",
      "  inflating: __MACOSX/data/stimuli/wav/._stim105_cutting_with_scissors.wav  \n",
      "  inflating: data/stimuli/wav/stim185_hair_dryer.wav  \n",
      "  inflating: __MACOSX/data/stimuli/wav/._stim185_hair_dryer.wav  \n",
      "  inflating: data/stimuli/wav/stim360_cymbal_crash.wav  \n",
      "  inflating: __MACOSX/data/stimuli/wav/._stim360_cymbal_crash.wav  \n",
      "  inflating: data/stimuli/wav/stim91_coughing.wav  \n",
      "  inflating: __MACOSX/data/stimuli/wav/._stim91_coughing.wav  \n",
      "  inflating: data/stimuli/wav/stim320_scratching.wav  \n",
      "  inflating: __MACOSX/data/stimuli/wav/._stim320_scratching.wav  \n",
      "  inflating: data/stimuli/wav/stim485_soul_music.wav  \n",
      "  inflating: __MACOSX/data/stimuli/wav/._stim485_soul_music.wav  \n",
      "  inflating: data/stimuli/wav/stim315_saxophone_jazz_solo.wav  \n",
      "  inflating: __MACOSX/data/stimuli/wav/._stim315_saxophone_jazz_solo.wav  \n",
      "  inflating: data/stimuli/wav/stim150_finger_tapping.wav  \n",
      "  inflating: __MACOSX/data/stimuli/wav/._stim150_finger_tapping.wav  \n",
      "  inflating: data/stimuli/wav/stim523_computer-synthesized_speech.wav  \n",
      "  inflating: __MACOSX/data/stimuli/wav/._stim523_computer-synthesized_speech.wav  \n",
      "  inflating: data/stimuli/wav/stim194_helicopter.wav  \n",
      "  inflating: __MACOSX/data/stimuli/wav/._stim194_helicopter.wav  \n",
      "  inflating: data/stimuli/wav/stim420_zipper.wav  \n",
      "  inflating: __MACOSX/data/stimuli/wav/._stim420_zipper.wav  \n",
      "  inflating: data/stimuli/wav/stim383_truck_beeping_while_backing_up.wav  \n",
      "  inflating: __MACOSX/data/stimuli/wav/._stim383_truck_beeping_while_backing_up.wav  \n",
      "  inflating: data/stimuli/wav/stim163_frying.wav  \n",
      "  inflating: __MACOSX/data/stimuli/wav/._stim163_frying.wav  \n",
      "  inflating: data/stimuli/wav/stim366_telephone_ringing.wav  \n",
      "  inflating: __MACOSX/data/stimuli/wav/._stim366_telephone_ringing.wav  \n",
      "  inflating: data/stimuli/wav/stim50_camera_snapping_photos.wav  \n",
      "  inflating: __MACOSX/data/stimuli/wav/._stim50_camera_snapping_photos.wav  \n",
      "  inflating: data/stimuli/wav/stim246_newspaper_rustling.wav  \n",
      "  inflating: __MACOSX/data/stimuli/wav/._stim246_newspaper_rustling.wav  \n",
      "  inflating: data/stimuli/wav/stim329_electric_shaver.wav  \n",
      "  inflating: __MACOSX/data/stimuli/wav/._stim329_electric_shaver.wav  \n",
      "  inflating: data/stimuli/wav/stim384_trumpet_jazz_solo.wav  \n",
      "  inflating: __MACOSX/data/stimuli/wav/._stim384_trumpet_jazz_solo.wav  \n",
      "  inflating: data/stimuli/wav/stim484_soundtrack_for_a_sad_movie_scene.wav  \n",
      "  inflating: __MACOSX/data/stimuli/wav/._stim484_soundtrack_for_a_sad_movie_scene.wav  \n",
      "  inflating: data/stimuli/wav/stim375_train_whistle.wav  \n",
      "  inflating: __MACOSX/data/stimuli/wav/._stim375_train_whistle.wav  \n",
      "  inflating: data/stimuli/wav/stim293_whistle.wav  \n",
      "  inflating: __MACOSX/data/stimuli/wav/._stim293_whistle.wav  \n",
      "  inflating: data/stimuli/wav/stim62_car_skidding.wav  \n",
      "  inflating: __MACOSX/data/stimuli/wav/._stim62_car_skidding.wav  \n",
      "  inflating: data/stimuli/wav/stim279_printing.wav  \n",
      "  inflating: __MACOSX/data/stimuli/wav/._stim279_printing.wav  \n",
      "  inflating: data/stimuli/wav/stim465_song_from_a_musical.wav  \n",
      "  inflating: __MACOSX/data/stimuli/wav/._stim465_song_from_a_musical.wav  \n",
      "  inflating: data/stimuli/wav/stim78_chimes_in_the_wind.wav  \n",
      "  inflating: __MACOSX/data/stimuli/wav/._stim78_chimes_in_the_wind.wav  \n",
      "  inflating: data/stimuli/wav/stim88_coin_dropping.wav  \n",
      "  inflating: __MACOSX/data/stimuli/wav/._stim88_coin_dropping.wav  \n",
      "  inflating: data/stimuli/wav/stim503_italian.wav  \n",
      "  inflating: __MACOSX/data/stimuli/wav/._stim503_italian.wav  \n",
      "  inflating: data/stimuli/wav/stim358_swimming.wav  \n",
      "  inflating: __MACOSX/data/stimuli/wav/._stim358_swimming.wav  \n",
      "  inflating: data/stimuli/wav/stim66_cash_register.wav  \n",
      "  inflating: __MACOSX/data/stimuli/wav/._stim66_cash_register.wav  \n",
      "  inflating: data/stimuli/wav/stim86_clock_ticking.wav  \n",
      "  inflating: __MACOSX/data/stimuli/wav/._stim86_clock_ticking.wav  \n",
      "  inflating: data/stimuli/wav/stim102_crumpling_paper.wav  \n",
      "  inflating: __MACOSX/data/stimuli/wav/._stim102_crumpling_paper.wav  \n",
      "  inflating: data/stimuli/wav/stim352_spraying.wav  \n",
      "  inflating: __MACOSX/data/stimuli/wav/._stim352_spraying.wav  \n",
      "  inflating: data/stimuli/wav/stim97_crickets.wav  \n",
      "  inflating: __MACOSX/data/stimuli/wav/._stim97_crickets.wav  \n",
      "  inflating: data/stimuli/wav/stim434_classic_rock.wav  \n",
      "  inflating: __MACOSX/data/stimuli/wav/._stim434_classic_rock.wav  \n",
      "  inflating: data/stimuli/wav/stim215_door_knocking.wav  \n",
      "  inflating: __MACOSX/data/stimuli/wav/._stim215_door_knocking.wav  \n",
      "  inflating: data/stimuli/wav/stim406_whistling.wav  \n",
      "  inflating: __MACOSX/data/stimuli/wav/._stim406_whistling.wav  \n",
      "  inflating: data/stimuli/wav/stim89_coin_in_vending_machine.wav  \n",
      "  inflating: __MACOSX/data/stimuli/wav/._stim89_coin_in_vending_machine.wav  \n",
      "  inflating: data/stimuli/wav/stim137_drum_solo.wav  \n",
      "  inflating: __MACOSX/data/stimuli/wav/._stim137_drum_solo.wav  \n",
      "  inflating: data/stimuli/wav/stim124_doorbell.wav  \n",
      "  inflating: __MACOSX/data/stimuli/wav/._stim124_doorbell.wav  \n",
      "  inflating: data/stimuli/wav/stim505_chinese.wav  \n",
      "  inflating: __MACOSX/data/stimuli/wav/._stim505_chinese.wav  \n",
      "  inflating: data/stimuli/wav/stim76_chair_rolling.wav  \n",
      "  inflating: __MACOSX/data/stimuli/wav/._stim76_chair_rolling.wav  \n",
      "  inflating: data/stimuli/wav/stim273_airplane_taking_off.wav  \n",
      "  inflating: __MACOSX/data/stimuli/wav/._stim273_airplane_taking_off.wav  \n",
      "  inflating: data/stimuli/wav/stim221_laughing.wav  \n",
      "  inflating: __MACOSX/data/stimuli/wav/._stim221_laughing.wav  \n",
      "  inflating: data/stimuli/wav/stim277_pouring_water_out_of_bottle.wav  \n",
      "  inflating: __MACOSX/data/stimuli/wav/._stim277_pouring_water_out_of_bottle.wav  \n",
      "  inflating: data/stimuli/wav/stim69_cat_purring.wav  \n",
      "  inflating: __MACOSX/data/stimuli/wav/._stim69_cat_purring.wav  \n",
      "  inflating: data/stimuli/wav/stim172_geese.wav  \n",
      "  inflating: __MACOSX/data/stimuli/wav/._stim172_geese.wav  \n",
      "  inflating: data/stimuli/wav/stim461_latin_music.wav  \n",
      "  inflating: __MACOSX/data/stimuli/wav/._stim461_latin_music.wav  \n",
      "  inflating: data/stimuli/wav/stim321_scream.wav  \n",
      "  inflating: __MACOSX/data/stimuli/wav/._stim321_scream.wav  \n",
      "  inflating: data/stimuli/wav/stim477_reggae.wav  \n",
      "  inflating: __MACOSX/data/stimuli/wav/._stim477_reggae.wav  \n",
      "  inflating: data/stimuli/wav/stim296_rock_guitar_solo.wav  \n",
      "  inflating: __MACOSX/data/stimuli/wav/._stim296_rock_guitar_solo.wav  \n",
      "  inflating: data/stimuli/wav/stim31_blender.wav  \n",
      "  inflating: __MACOSX/data/stimuli/wav/._stim31_blender.wav  \n",
      "  inflating: data/stimuli/wav/stim19_electric_bass.wav  \n",
      "  inflating: __MACOSX/data/stimuli/wav/._stim19_electric_bass.wav  \n",
      "  inflating: data/stimuli/wav/stim59_car_engine_starting.wav  \n",
      "  inflating: __MACOSX/data/stimuli/wav/._stim59_car_engine_starting.wav  \n",
      "  inflating: data/stimuli/wav/stim399_walking_on_hard_surface.wav  \n",
      "  inflating: __MACOSX/data/stimuli/wav/._stim399_walking_on_hard_surface.wav  \n",
      "  inflating: data/stimuli/wav/stim183_guitar.wav  \n",
      "  inflating: __MACOSX/data/stimuli/wav/._stim183_guitar.wav  \n",
      "  inflating: data/stimuli/wav/stim283_contemporary_rb.wav  \n",
      "  inflating: __MACOSX/data/stimuli/wav/._stim283_contemporary_rb.wav  \n",
      "  inflating: data/stimuli/wav/stim107_dial_tone.wav  \n",
      "  inflating: __MACOSX/data/stimuli/wav/._stim107_dial_tone.wav  \n",
      "  inflating: data/stimuli/wav/stim51_car_accelerating.wav  \n",
      "  inflating: __MACOSX/data/stimuli/wav/._stim51_car_accelerating.wav  \n",
      "  inflating: data/stimuli/wav/stim501_spanish.wav  \n",
      "  inflating: __MACOSX/data/stimuli/wav/._stim501_spanish.wav  \n",
      "  inflating: data/stimuli/wav/stim12_background_speech.wav  \n",
      "  inflating: __MACOSX/data/stimuli/wav/._stim12_background_speech.wav  \n",
      "  inflating: data/stimuli/wav/stim72_cello.wav  \n",
      "  inflating: __MACOSX/data/stimuli/wav/._stim72_cello.wav  \n",
      "  inflating: data/stimuli/wav/stim240_motorcycle_reving.wav  \n",
      "  inflating: __MACOSX/data/stimuli/wav/._stim240_motorcycle_reving.wav  \n",
      "  inflating: data/stimuli/wav/stim174_girl_speaking.wav  \n",
      "  inflating: __MACOSX/data/stimuli/wav/._stim174_girl_speaking.wav  \n",
      "  inflating: data/stimuli/wav/stim132_water_dripping.wav  \n",
      "  inflating: __MACOSX/data/stimuli/wav/._stim132_water_dripping.wav  \n",
      "  inflating: data/stimuli/wav/stim502_french.wav  \n",
      "  inflating: __MACOSX/data/stimuli/wav/._stim502_french.wav  \n",
      "  inflating: data/stimuli/wav/stim276_pouring_liquid.wav  \n",
      "  inflating: __MACOSX/data/stimuli/wav/._stim276_pouring_liquid.wav  \n",
      "  inflating: data/stimuli/wav/stim418_writing_on_paper.wav  \n",
      "  inflating: __MACOSX/data/stimuli/wav/._stim418_writing_on_paper.wav  \n",
      "  inflating: data/stimuli/wav/stim52_car_alarm.wav  \n",
      "  inflating: __MACOSX/data/stimuli/wav/._stim52_car_alarm.wav  \n",
      "  inflating: data/stimuli/wav/stim238_baby_talk.wav  \n",
      "  inflating: __MACOSX/data/stimuli/wav/._stim238_baby_talk.wav  \n",
      "  inflating: data/stimuli/wav/stim391_vacuum.wav  \n",
      "  inflating: __MACOSX/data/stimuli/wav/._stim391_vacuum.wav  \n",
      "  inflating: data/stimuli/wav/stim5_alarm_clock.wav  \n",
      "  inflating: __MACOSX/data/stimuli/wav/._stim5_alarm_clock.wav  \n",
      "  inflating: data/stimuli/wav/stim334_shuffling_cards.wav  \n",
      "  inflating: __MACOSX/data/stimuli/wav/._stim334_shuffling_cards.wav  \n",
      "  inflating: data/stimuli/wav/stim515_sports_anouncer.wav  \n",
      "  inflating: __MACOSX/data/stimuli/wav/._stim515_sports_anouncer.wav  \n",
      "  inflating: data/stimuli/wav/stim103_crying.wav  \n",
      "  inflating: __MACOSX/data/stimuli/wav/._stim103_crying.wav  \n",
      "  inflating: data/stimuli/wav/stim525_dog_panting.wav  \n",
      "  inflating: __MACOSX/data/stimuli/wav/._stim525_dog_panting.wav  \n",
      "  inflating: data/stimuli/wav/stim118_puppy_whining.wav  \n",
      "  inflating: __MACOSX/data/stimuli/wav/._stim118_puppy_whining.wav  \n",
      "  inflating: data/stimuli/wav/stim298_contemporary_rock_song.wav  \n",
      "  inflating: __MACOSX/data/stimuli/wav/._stim298_contemporary_rock_song.wav  \n",
      "  inflating: data/stimuli/wav/stim349_water_splashing.wav  \n",
      "  inflating: __MACOSX/data/stimuli/wav/._stim349_water_splashing.wav  \n",
      "  inflating: data/stimuli/wav/stim393_video_game_music.wav  \n",
      "  inflating: __MACOSX/data/stimuli/wav/._stim393_video_game_music.wav  \n",
      "  inflating: data/stimuli/wav/stim80_chopping_food.wav  \n",
      "  inflating: __MACOSX/data/stimuli/wav/._stim80_chopping_food.wav  \n",
      "  inflating: data/stimuli/wav/stim38_boy_speaking.wav  \n",
      "  inflating: __MACOSX/data/stimuli/wav/._stim38_boy_speaking.wav  \n",
      "  inflating: data/stimuli/wav/stim480_rubbing_hands.wav  \n",
      "  inflating: __MACOSX/data/stimuli/wav/._stim480_rubbing_hands.wav  \n",
      "  inflating: data/stimuli/wav/stim7_applause.wav  \n",
      "  inflating: __MACOSX/data/stimuli/wav/._stim7_applause.wav  \n",
      "  inflating: data/stimuli/wav/stim337_siren.wav  \n",
      "  inflating: __MACOSX/data/stimuli/wav/._stim337_siren.wav  \n",
      "  inflating: data/stimuli/wav/stim82_church_bells.wav  \n",
      "  inflating: __MACOSX/data/stimuli/wav/._stim82_church_bells.wav  \n",
      "  inflating: data/stimuli/wav/stim516_stream.wav  \n",
      "  inflating: __MACOSX/data/stimuli/wav/._stim516_stream.wav  \n",
      "  inflating: data/stimuli/wav/stim317_horror_film_sound_effects.wav  \n",
      "  inflating: __MACOSX/data/stimuli/wav/._stim317_horror_film_sound_effects.wav  \n",
      "  inflating: data/stimuli/wav/stim368_thunder.wav  \n",
      "  inflating: __MACOSX/data/stimuli/wav/._stim368_thunder.wav  \n",
      "  inflating: data/stimuli/wav/stim23_bees_buzzing.wav  \n",
      "  inflating: __MACOSX/data/stimuli/wav/._stim23_bees_buzzing.wav  \n",
      "  inflating: data/stimuli/wav/stim506_hindi.wav  \n",
      "  inflating: __MACOSX/data/stimuli/wav/._stim506_hindi.wav  \n",
      "  inflating: data/stimuli/wav/stim422_baby_babbling.wav  \n",
      "  inflating: __MACOSX/data/stimuli/wav/._stim422_baby_babbling.wav  \n",
      "  inflating: data/stimuli/wav/stim513_running_water.wav  \n",
      "  inflating: __MACOSX/data/stimuli/wav/._stim513_running_water.wav  \n",
      "  inflating: data/stimuli/wav/stim285_radio_or_tv_static.wav  \n",
      "  inflating: __MACOSX/data/stimuli/wav/._stim285_radio_or_tv_static.wav  \n",
      "  inflating: data/stimuli/wav/stim71_cellphone_vibrating.wav  \n",
      "  inflating: __MACOSX/data/stimuli/wav/._stim71_cellphone_vibrating.wav  \n",
      "  inflating: data/stimuli/wav/stim414_woman_speaking.wav  \n",
      "  inflating: __MACOSX/data/stimuli/wav/._stim414_woman_speaking.wav  \n",
      "  inflating: data/stimuli/wav/stim156_wings_flapping.wav  \n",
      "  inflating: __MACOSX/data/stimuli/wav/._stim156_wings_flapping.wav  \n",
      "  inflating: data/stimuli/wav/stim114_dishes_clanking.wav  \n",
      "  inflating: __MACOSX/data/stimuli/wav/._stim114_dishes_clanking.wav  \n",
      "  inflating: data/stimuli/wav/stim98_crowd_cheering.wav  \n",
      "  inflating: __MACOSX/data/stimuli/wav/._stim98_crowd_cheering.wav  \n",
      "  inflating: data/stimuli/wav/stim34_blues_band.wav  \n",
      "  inflating: __MACOSX/data/stimuli/wav/._stim34_blues_band.wav  \n",
      "  inflating: data/stimuli/wav/stim510_crowd_laughing.wav  \n",
      "  inflating: __MACOSX/data/stimuli/wav/._stim510_crowd_laughing.wav  \n",
      "  inflating: data/stimuli/wav/stim392_velcro.wav  \n",
      "  inflating: __MACOSX/data/stimuli/wav/._stim392_velcro.wav  \n",
      "  inflating: data/stimuli/wav/stim211_keys_jingling.wav  \n",
      "  inflating: __MACOSX/data/stimuli/wav/._stim211_keys_jingling.wav  \n",
      "  inflating: data/stimuli/wav/stim365_techno.wav  \n",
      "  inflating: __MACOSX/data/stimuli/wav/._stim365_techno.wav  \n",
      "  inflating: data/stimuli/wav/stim475_punk_music.wav  \n",
      "  inflating: __MACOSX/data/stimuli/wav/._stim475_punk_music.wav  \n",
      "  inflating: data/stimuli/wav/stim182_grunting_and_groaning.wav  \n",
      "  inflating: __MACOSX/data/stimuli/wav/._stim182_grunting_and_groaning.wav  \n",
      "  inflating: data/stimuli/wav/stim140_electric_hand_drill.wav  \n",
      "  inflating: __MACOSX/data/stimuli/wav/._stim140_electric_hand_drill.wav  \n",
      "  inflating: data/stimuli/wav/stim28_big_band_music.wav  \n",
      "  inflating: __MACOSX/data/stimuli/wav/._stim28_big_band_music.wav  \n",
      "  inflating: data/stimuli/wav/stim527_ringtone.wav  \n",
      "  inflating: __MACOSX/data/stimuli/wav/._stim527_ringtone.wav  \n",
      "  inflating: data/stimuli/wav/stim373_train_warning_bell.wav  \n",
      "  inflating: __MACOSX/data/stimuli/wav/._stim373_train_warning_bell.wav  \n",
      "  inflating: data/stimuli/wav/stim92_country_song.wav  \n",
      "  inflating: __MACOSX/data/stimuli/wav/._stim92_country_song.wav  \n",
      "  inflating: data/stimuli/wav/stim486_sports_arena_buzzer.wav  \n",
      "  inflating: __MACOSX/data/stimuli/wav/._stim486_sports_arena_buzzer.wav  \n"
     ]
    }
   ],
   "source": [
    "#@title Data retrieval\n",
    "\n",
    "fname = \"data.zip\"\n",
    "url = \"https://urldefense.com/v3/__https://osf.io/uhkez/download*5C*22*5Cn*22__;JSUlJQ!!Mih3wA!EQR-DoKYIbG6gHlkgvfpU2qYYKjmwdWWBEHUJTClnnwOetzg0Gxm8lJ04FeYQBT0vlEqojBlRwdTgAc1QA$ ,
    "\n",
    "if not os.path.isfile(fname):\n",
    "  try:\n",
    "    r = requests.get(url)\n",
    "  except requests.ConnectionError:\n",
    "    print(\"!!! Failed to download data !!!\")\n",
    "  else:\n",
    "    if r.status_code != requests.codes.ok:\n",
    "      print(\"!!! Failed to download data !!!\")\n",
    "    else:\n",
    "      with open(fname, \"wb\") as fid:\n",
    "        fid.write(r.content)\n",
    "!unzip data.zip"
   ]
  },
  {
   "cell_type": "markdown",
   "id": "edead15f-22d9-481c-ab60-a19026954a28",
   "metadata": {},
   "source": [
    "### Load data and understand the data attributes"
   ]
  },
  {
   "cell_type": "code",
   "execution_count": 82,
   "id": "51a8b41c-6386-4ce3-abe7-167d0eb3a255",
   "metadata": {},
   "outputs": [],
   "source": [
    "# Load data \n",
    "data = sio.loadmat('data/data_matrix.mat')"
   ]
  },
  {
   "cell_type": "code",
   "execution_count": null,
   "id": "797be736-fa2a-4e15-95dc-94c7dacc4268",
   "metadata": {},
   "outputs": [],
   "source": [
    "# Check data attributes \n",
    "data.keys()"
   ]
  },
  {
   "cell_type": "code",
   "execution_count": 47,
   "id": "30513528-73c4-48a2-910a-44ea74211ced",
   "metadata": {},
   "outputs": [],
   "source": [
    "# Load filepaths of all stimuli\n",
    "wav_dir = 'data/stimuli/wav'\n",
    "\n",
    "stim_names = np.concatenate(data['stim_names'][0],0) \n",
    "stim_paths = np.array([\"%s/%s.wav\" % (wav_dir, name) for name in stim_names])"
   ]
  },
  {
   "cell_type": "code",
   "execution_count": 48,
   "id": "a7c63723-16cc-4c72-8713-a2e709b12932",
   "metadata": {},
   "outputs": [],
   "source": [
    "# Load the category labels of all sounds\n",
    "labels = pd.read_csv('data/stimuli/category_labels.csv', index_col = 'stimulus')"
   ]
  },
  {
   "cell_type": "code",
   "execution_count": 49,
   "id": "e1e845d5-524e-4f52-a1d3-a7c393e31ce9",
   "metadata": {},
   "outputs": [],
   "source": [
    "# Order the labels based on stimulus names \n",
    "categories = labels.loc[stim_names, 'label'].values"
   ]
  },
  {
   "cell_type": "code",
   "execution_count": 50,
   "id": "cca17ebf-8b34-4a2e-b392-11d04468950c",
   "metadata": {},
   "outputs": [
    {
     "name": "stdout",
     "output_type": "stream",
     "text": [
      "Playing sound from the Music category\n"
     ]
    }
   ],
   "source": [
    "# Play sample sounds from the dataset\n",
    "idx = 0\n",
    "stim_path, category = stim_paths[idx], categories[idx]\n",
    "print('Playing sound from the %s category' % category)\n",
    "playsound(stim_path)"
   ]
  },
  {
   "cell_type": "markdown",
   "id": "eab36941-2872-4ce3-8a46-cf23e178b99f",
   "metadata": {},
   "source": [
    "<div class=\"alert alert-success\"> <b>*** Tasks *** </b><br>\n",
    "    <b>(a). Average the fMRI responses across repetitions to create the data matrix  </b><br>\n",
    "    <b>(b). Visualize the response of an example voxel to all sounds  </b><br>\n",
    "</div>"
   ]
  },
  {
   "cell_type": "code",
   "execution_count": 9,
   "id": "337570d2-20cb-4457-bd96-ff33228fd3d8",
   "metadata": {},
   "outputs": [],
   "source": [
    "# (a)\n",
    "brain_data = np.nanmean(data['D'], -1)"
   ]
  },
  {
   "cell_type": "code",
   "execution_count": 10,
   "id": "991039b3-62c3-493f-98ad-0690dbc4e851",
   "metadata": {},
   "outputs": [
    {
     "data": {
      "image/png": "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",
      "text/plain": [
       "<Figure size 640x480 with 1 Axes>"
      ]
     },
     "metadata": {},
     "output_type": "display_data"
    }
   ],
   "source": [
    "# (b)\n",
    "f, ax = plt.subplots()\n",
    "plt.stem(brain_data[:,100])\n",
    "plt.xlabel('Sound number', fontsize = 12); \n",
    "plt.ylabel('fMRI response', fontsize = 12); \n",
    "ax.spines['right'].set_visible(False)\n",
    "ax.spines['top'].set_visible(False)"
   ]
  },
  {
   "cell_type": "markdown",
   "id": "95d51fa9-234f-4d13-9b2a-589d4b12f7fb",
   "metadata": {},
   "source": [
    "### Apply two versions of NMF on the data <br>\n",
    "(a) Standard NMF using `nimfa.Nmf` <br>\n",
    "(b) Sparse NMF using `nimfa.Snmf`"
   ]
  },
  {
   "cell_type": "markdown",
   "id": "a16ae67b-28bc-40e7-9b00-856f6d56b2cf",
   "metadata": {},
   "source": [
    "<div class=\"alert alert-success\"> <b>*** Tasks *** </b><br>\n",
    "    <b>As seen from the visualization above, voxel responses can sometimes be negative. To apply NMF (or its variants) on the data, we need non-negative data. \n",
    "To make the data matrix suitable for NMF so that it contains all positive entries, we can perform a baseline shift of voxel responses by subtracting the minimum response of each voxel (across all stimuli) from its responses to all stimuli. \n",
    "    In the following cell, perform this operation and store the result in a variable `nn_data`</b> \n",
    "</div>"
   ]
  },
  {
   "cell_type": "code",
   "execution_count": 73,
   "id": "aeec684f-6170-4e54-80e3-16aac634166d",
   "metadata": {},
   "outputs": [
    {
     "data": {
      "text/plain": [
       "(11065,)"
      ]
     },
     "execution_count": 73,
     "metadata": {},
     "output_type": "execute_result"
    }
   ],
   "source": [
    "# Handling the non-negative entries in the data \n",
    "nn_data = (brain_data - brain_data.min(0))"
   ]
  },
  {
   "cell_type": "markdown",
   "id": "d7168905-d72a-491c-ab7d-2f64b7449cce",
   "metadata": {},
   "source": [
    "##### Here, we will apply both the NMF methods on your non-negative data and compute the reconstruction error in each case "
   ]
  },
  {
   "cell_type": "code",
   "execution_count": 60,
   "id": "1ad5f14e-9b1a-4b6e-a019-48591f2fc8dc",
   "metadata": {},
   "outputs": [
    {
     "name": "stdout",
     "output_type": "stream",
     "text": [
      "Standard NMF RSS: 12.2705\n",
      "Sparse NMF RSS: 9.5507\n"
     ]
    }
   ],
   "source": [
    "n_components = 10\n",
    "standard_nmf = nimfa.Nmf(nn_data, seed=\"nndsvd\", rank=n_components, max_iter=12, update='euclidean', objective='fro')\n",
    "standard_nmf_fit = standard_nmf()\n",
    "\n",
    "print('Standard NMF RSS: %5.4f' % standard_nmf_fit.fit.rss())\n",
    "\n",
    "snmf = nimfa.Snmf(nn_data, seed=\"nndsvd\", rank=n_components, max_iter=12, version='r',\n",
    "                  eta=1., beta=1e-4, i_conv=10, w_min_change=0)\n",
    "snmf_fit = snmf()\n",
    "print('Sparse NMF RSS: %5.4f' % snmf_fit.fit.rss())\n"
   ]
  },
  {
   "cell_type": "markdown",
   "id": "22647917-2dd8-474a-9665-ce54f21ef368",
   "metadata": {},
   "source": [
    "_Q. Which one is better?_"
   ]
  },
  {
   "cell_type": "markdown",
   "id": "b313bbec-4d3c-42df-bf56-ef083ff1dd97",
   "metadata": {},
   "source": [
    "<div class=\"alert alert-success\"> <b>*** Tasks *** </b><br>\n",
    "    <b>Use the better NMF approach and plot the reconstruction error (residual sum of squares) as a function of the number of components, varying the component number from 1 through 10  </b><br>\n",
    "</div>"
   ]
  },
  {
   "cell_type": "markdown",
   "id": "a99caacf-7a52-457e-9f36-41eb79ad6131",
   "metadata": {},
   "source": [
    "### Selecting the number of components"
   ]
  },
  {
   "cell_type": "code",
   "execution_count": 61,
   "id": "7a6a2c8e-180e-4ea2-aea2-839706435e6a",
   "metadata": {},
   "outputs": [],
   "source": [
    "rss = []\n",
    "n_range = range(1,11)\n",
    "for n_components in n_range:\n",
    "    snmf = nimfa.Snmf(nn_data, seed=\"nndsvd\", rank=n_components, max_iter=12, version='r',\n",
    "                      eta=1., beta=1e-4, i_conv=10, w_min_change=0)\n",
    "    snmf_fit = snmf()\n",
    "    rss.append(snmf_fit.fit.rss())"
   ]
  },
  {
   "cell_type": "code",
   "execution_count": 64,
   "id": "b5b616e3-248c-4862-bcf2-299a1d266052",
   "metadata": {},
   "outputs": [
    {
     "data": {
      "image/png": "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",
      "text/plain": [
       "<Figure size 640x480 with 1 Axes>"
      ]
     },
     "metadata": {},
     "output_type": "display_data"
    }
   ],
   "source": [
    "f, ax = plt.subplots()\n",
    "plt.plot(n_range, rss); \n",
    "plt.xlabel('# of components'); \n",
    "plt.ylabel('RSS');\n",
    "ax.spines['right'].set_visible(False)\n",
    "ax.spines['top'].set_visible(False)"
   ]
  },
  {
   "cell_type": "markdown",
   "id": "6b1f3edc-12b7-4aa0-b05f-6b02d9de59e4",
   "metadata": {},
   "source": [
    "_Q. What can you conclude from this plot?_"
   ]
  },
  {
   "cell_type": "markdown",
   "id": "5da0e024-7073-4855-9f1f-95269aa993ba",
   "metadata": {},
   "source": [
    "### Applying NMF with the selected number of components"
   ]
  },
  {
   "cell_type": "code",
   "execution_count": 65,
   "id": "570b6779-2ff0-4b31-978c-71960926376f",
   "metadata": {},
   "outputs": [],
   "source": [
    "n_components = 6\n",
    "snmf = nimfa.Snmf(nn_data, seed=\"nndsvd\", rank=n_components, max_iter=12, version='l',\n",
    "                      eta=1., beta=1e-4, i_conv=10, w_min_change=0)\n",
    "snmf_fit = snmf()"
   ]
  },
  {
   "cell_type": "code",
   "execution_count": 68,
   "id": "7280588b-24ec-4464-8097-9016a480e685",
   "metadata": {},
   "outputs": [],
   "source": [
    "# Extract the response profile matrix and the component weight matrix \n",
    "response_profile = np.asarray(snmf_fit.basis().T)\n",
    "voxel_weight = np.asarray(snmf_fit.coef())"
   ]
  },
  {
   "cell_type": "code",
   "execution_count": 69,
   "id": "39494fea-4c96-4003-b638-34c09ad6090c",
   "metadata": {},
   "outputs": [
    {
     "data": {
      "text/plain": [
       "((6, 11065), (6, 165))"
      ]
     },
     "execution_count": 69,
     "metadata": {},
     "output_type": "execute_result"
    }
   ],
   "source": [
    "# Check the shape of the extracted low-dimensional matrices \n",
    "voxel_weight.shape, response_profile.shape"
   ]
  },
  {
   "cell_type": "markdown",
   "id": "659eb7a2-ed8a-4d63-a682-640d7b7880e0",
   "metadata": {},
   "source": [
    "### Interpreting the response profiles of components "
   ]
  },
  {
   "cell_type": "markdown",
   "id": "dd563ef8-ad3f-47d6-bf76-f7972467c696",
   "metadata": {},
   "source": [
    "<div class=\"alert alert-success\"> <b>*** Tasks *** </b><br>\n",
    "    <b>a. Visualize the response profile of all components using the function below and try to infer if there are indeed music and speech-selective neural populations  </b><br>\n",
    "    <b>b. Play the top 10 sounds for the music and speech-selective components </b> \n",
    "</div>"
   ]
  },
  {
   "cell_type": "code",
   "execution_count": 71,
   "id": "4033f352-92f1-4506-b3c6-6a0527643fb6",
   "metadata": {},
   "outputs": [
    {
     "data": {
      "image/png": "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",
      "text/plain": [
       "<Figure size 700x300 with 1 Axes>"
      ]
     },
     "metadata": {},
     "output_type": "display_data"
    }
   ],
   "source": [
    "def visualize_component_response(idx = 0):\n",
    "    \n",
    "    sorted_categories = categories[np.argsort(response_profile[idx])][::-1]\n",
    "    sorted_response = np.sort(response_profile[idx])[::-1]\n",
    "    \n",
    "    sns.set(font_scale=1, style = 'white') \n",
    "    \n",
    "    colors = ['khaki', 'darkkhaki', 'indianred', 'orchid', 'brown', 'blue', 'slateblue', 'peru', 'seagreen', 'lightgray', 'mediumseagreen']\n",
    "    \n",
    "    fig, ax = plt.subplots(figsize = (7,3))\n",
    "    for loc, cat_name in enumerate(np.unique(sorted_categories)): \n",
    "        markers, stems, base = plt.stem(np.where(sorted_categories == cat_name)[0], sorted_response[sorted_categories==cat_name], colors[loc], basefmt=\" \", label=cat_name, markerfmt=\" \")\n",
    "        plt.setp(stems, 'linewidth', 1.4)\n",
    "        \n",
    "    plt.legend(ncol = 3, fontsize = 10)\n",
    "    plt.xlabel('Sound number (sorted by response)', fontweight = 'bold', fontsize = 12);\n",
    "    plt.ylabel('Component response', fontweight = 'bold', fontsize = 12)\n",
    "    plt.title('Response profile of component # %d' % idx, fontweight = 'bold', fontsize = 12); \n",
    "\n",
    "visualize_component_response(2)"
   ]
  },
  {
   "cell_type": "code",
   "execution_count": 56,
   "id": "4f0e986f-5a17-47f4-989d-bea0fb4cdcba",
   "metadata": {},
   "outputs": [],
   "source": [
    "# Play top 10 sounds of the music and speech-speech selective components \n",
    "idx = 0\n",
    "ordered_paths = stim_paths[np.argsort(response_profile[idx])[::-1]]\n",
    "for i in range(10):\n",
    "    playsound(ordered_paths[i])"
   ]
  },
  {
   "cell_type": "markdown",
   "id": "254bb8b2-f1f1-4920-ae07-b667663ae4b7",
   "metadata": {},
   "source": [
    "#### Acknowledgements \n",
    "This dataset of fMRI responses to auditory sounds was collected by Sam Norman-Haignere and released as part of the following publication: \n",
    "Norman-Haignere, Sam, Nancy G. Kanwisher, and Josh H. McDermott. \"Distinct cortical pathways for music and speech revealed by hypothesis-free voxel decomposition.\" Neuron \n",
    "                                                                          "
   ]
  }
 ],
 "metadata": {
  "kernelspec": {
   "display_name": "Python 3 (ipykernel)",
   "language": "python",
   "name": "python3"
  },
  "language_info": {
   "codemirror_mode": {
    "name": "ipython",
    "version": 3
   },
   "file_extension": ".py",
   "mimetype": "text/x-python",
   "name": "python",
   "nbconvert_exporter": "python",
   "pygments_lexer": "ipython3",
   "version": "3.11.7"
  }
 },
 "nbformat": 4,
 "nbformat_minor": 5
}
