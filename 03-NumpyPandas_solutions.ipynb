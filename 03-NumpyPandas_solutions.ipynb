{
 "cells": [
  {
   "cell_type": "markdown",
   "metadata": {
    "slideshow": {
     "slide_type": "slide"
    }
   },
   "source": [
    "# NumPy & Pandas\n",
    "In this notebook, we'll encounter two packages for scientific computing in Python: NumPy and Pandas.\n",
    "\n",
    "**At the end of this notebook, you'll be able to:**\n",
    "* Install and import packages for Python\n",
    "* Create NumPy arrays\n",
    "* Execute methods & access attributes of arrays\n",
    "* Create & manipulate Pandas dataframes\n",
    "<hr>"
   ]
  },
  {
   "cell_type": "markdown",
   "metadata": {
    "slideshow": {
     "slide_type": "slide"
    }
   },
   "source": [
    "## Importing packages\n",
    "\n",
    "Before we can use NumPy or Pandas, we need to import them. We can also nickname the modules when we import them.\n",
    "\n",
    "The convention is to import `numpy` as `np` and `pandas` as `pd`."
   ]
  },
  {
   "cell_type": "code",
   "execution_count": 1,
   "metadata": {
    "slideshow": {
     "slide_type": "fragment"
    }
   },
   "outputs": [
    {
     "name": "stdout",
     "output_type": "stream",
     "text": [
      "Variable   Type      Data/Info\n",
      "------------------------------\n",
      "np         module    <module 'numpy' from '/op<...>kages/numpy/__init__.py'>\n",
      "pd         module    <module 'pandas' from '/h<...>ages/pandas/__init__.py'>\n"
     ]
    }
   ],
   "source": [
    "# Import packages\n",
    "import numpy as np\n",
    "import pandas as pd\n",
    "\n",
    "# Use whos 'magic command' to see available modules\n",
    "%whos"
   ]
  },
  {
   "cell_type": "markdown",
   "metadata": {
    "slideshow": {
     "slide_type": "slide"
    }
   },
   "source": [
    "## NumPy\n",
    "\n",
    "**NumPy** is the fundamental package for scientific computing with Python. It'll allow us to work with bigger datasets more efficiently."
   ]
  },
  {
   "cell_type": "markdown",
   "metadata": {
    "slideshow": {
     "slide_type": "slide"
    }
   },
   "source": [
    "### Creating `numpy` arrays\n",
    "\n",
    "A numpy **array** is a grid of values which are all the same [data type](https://jakevdp.github.io/PythonDataScienceHandbook/02.01-understanding-data-types.html).\n",
    "\n",
    "We can create a numpy array in a few different ways:\n",
    "\n",
    "* from a Python list or tuples\n",
    "* by using functions that are dedicated to generating numpy arrays, such as `arange`, `linspace`, `empty`,`zeroes`, etc.\n",
    "* reading data from files"
   ]
  },
  {
   "cell_type": "code",
   "execution_count": 2,
   "metadata": {
    "slideshow": {
     "slide_type": "slide"
    }
   },
   "outputs": [
    {
     "data": {
      "text/plain": [
       "array([1, 2, 3, 4, 5])"
      ]
     },
     "execution_count": 2,
     "metadata": {},
     "output_type": "execute_result"
    }
   ],
   "source": [
    "# Create a list\n",
    "lst = [1,2,3,4,5]\n",
    "\n",
    "# Make our list into an array\n",
    "my_vector = np.array(lst)\n",
    "my_vector"
   ]
  },
  {
   "cell_type": "code",
   "execution_count": 3,
   "metadata": {
    "slideshow": {
     "slide_type": "fragment"
    }
   },
   "outputs": [
    {
     "data": {
      "text/plain": [
       "array([[1, 2, 3, 4, 5],\n",
       "       [1, 2, 3, 4, 5]])"
      ]
     },
     "execution_count": 3,
     "metadata": {},
     "output_type": "execute_result"
    }
   ],
   "source": [
    "# If we give np.array() a list of lists, it will create a matrix\n",
    "my_matrix = np.array([lst,lst])\n",
    "my_matrix"
   ]
  },
  {
   "cell_type": "markdown",
   "metadata": {
    "slideshow": {
     "slide_type": "slide"
    }
   },
   "source": [
    "### Accessing attributes of numpy arrays\n",
    "We can test shape and size either by looking at the attribute of the array, or by using the `shape()` and `size()` functions.\n",
    "\n",
    "Other attributes that might be of interest are `ndim` and `dtype`."
   ]
  },
  {
   "cell_type": "code",
   "execution_count": 7,
   "metadata": {
    "slideshow": {
     "slide_type": "fragment"
    }
   },
   "outputs": [
    {
     "name": "stdout",
     "output_type": "stream",
     "text": [
      "1\n",
      "(5,)\n",
      "int64\n",
      "2\n",
      "(2, 5)\n"
     ]
    }
   ],
   "source": [
    "# Check the dimensions of vector\n",
    "print(my_vector.ndim)\n",
    "print(my_vector.shape)\n",
    "print(my_vector.dtype)\n",
    "\n",
    "# Check the dimensions of matrix\n",
    "print(my_matrix.ndim)\n",
    "print(my_matrix.shape)"
   ]
  },
  {
   "cell_type": "markdown",
   "metadata": {
    "slideshow": {
     "slide_type": "slide"
    }
   },
   "source": [
    "Array data type is decided upon creation of the array.\n",
    "\n",
    "You can explicitly define the data type by using `dtype= ` when you use `np.array()`. You can set the dtype to be `int, float, complex, bool, object`, etc"
   ]
  },
  {
   "cell_type": "code",
   "execution_count": 8,
   "metadata": {
    "slideshow": {
     "slide_type": "fragment"
    }
   },
   "outputs": [
    {
     "data": {
      "text/plain": [
       "array([1., 2., 3., 4., 5.])"
      ]
     },
     "execution_count": 8,
     "metadata": {},
     "output_type": "execute_result"
    }
   ],
   "source": [
    "# Use dtype here\n",
    "float_matrix = np.array(lst,dtype='float')\n",
    "float_matrix"
   ]
  },
  {
   "cell_type": "markdown",
   "metadata": {
    "slideshow": {
     "slide_type": "slide"
    }
   },
   "source": [
    "### Indexing & slicing arrays\n",
    "\n",
    "Indexing and slicing 1D arrays (vectors) is similar to indexing lists.\n",
    "\n",
    "You can index NumPy arrays using `array_name[row,column]` to select a single value. If you omit the column, it will give you the entire row. You can also use `:` in place of either `row` or `column` to indicate you want to return all those values."
   ]
  },
  {
   "cell_type": "markdown",
   "metadata": {
    "slideshow": {
     "slide_type": "slide"
    }
   },
   "source": [
    "<div class=\"alert alert-success\">\n",
    "\n",
    "**Task**: Create an array of booleans called `bool_array` that is 2 rows x 3 columns. Access the `shape` and `ndim` attributes to confirm its size, and the `dtype` attribute to confirm that it is boolean.\n",
    "\n",
    "</div>"
   ]
  },
  {
   "cell_type": "code",
   "execution_count": 9,
   "metadata": {
    "slideshow": {
     "slide_type": "fragment"
    }
   },
   "outputs": [
    {
     "data": {
      "text/plain": [
       "array([[ True, False,  True],\n",
       "       [False, False,  True]])"
      ]
     },
     "execution_count": 9,
     "metadata": {},
     "output_type": "execute_result"
    }
   ],
   "source": [
    "# Option 1\n",
    "bool_array = np.array([[1,0,1],[0,0,1]],dtype=bool)\n",
    "bool_array"
   ]
  },
  {
   "cell_type": "code",
   "execution_count": 12,
   "metadata": {},
   "outputs": [
    {
     "data": {
      "text/plain": [
       "array([[ True, False, False],\n",
       "       [ True, False, False]])"
      ]
     },
     "execution_count": 12,
     "metadata": {},
     "output_type": "execute_result"
    }
   ],
   "source": [
    "# Option 2\n",
    "\n",
    "bool_lst = [True,False,False]\n",
    "bool_array = np.array([bool_lst,bool_lst])\n",
    "bool_array"
   ]
  },
  {
   "cell_type": "code",
   "execution_count": 18,
   "metadata": {},
   "outputs": [
    {
     "data": {
      "text/plain": [
       "array([[1, 2, 3, 4, 5],\n",
       "       [1, 2, 3, 4, 5]])"
      ]
     },
     "execution_count": 18,
     "metadata": {},
     "output_type": "execute_result"
    }
   ],
   "source": [
    "my_matrix"
   ]
  },
  {
   "cell_type": "code",
   "execution_count": 20,
   "metadata": {
    "slideshow": {
     "slide_type": "fragment"
    }
   },
   "outputs": [
    {
     "data": {
      "text/plain": [
       "3"
      ]
     },
     "execution_count": 20,
     "metadata": {},
     "output_type": "execute_result"
    }
   ],
   "source": [
    "my_matrix[0,2]"
   ]
  },
  {
   "cell_type": "markdown",
   "metadata": {},
   "source": [
    "You may want to look at a slice of columns or a slice of rows. You can slice your array like the following: `array(start_row:stop_row, start_col:end_col)`. "
   ]
  },
  {
   "cell_type": "code",
   "execution_count": 21,
   "metadata": {},
   "outputs": [
    {
     "data": {
      "text/plain": [
       "array([[1, 2, 3],\n",
       "       [1, 2, 3]])"
      ]
     },
     "execution_count": 21,
     "metadata": {},
     "output_type": "execute_result"
    }
   ],
   "source": [
    "# Look at the first 3 columns of each row \n",
    "my_matrix[: ,0:3]"
   ]
  },
  {
   "cell_type": "markdown",
   "metadata": {
    "slideshow": {
     "slide_type": "slide"
    }
   },
   "source": [
    "## Subsetting arrays\n",
    "We can also subset our original array to only include data that meets our criteria. We can think of this as **subsetting** the array by applying a condition to our array. The syntax for this would be new_array = original_array[condition]. This is essentially indexing/slicing the array using a Boolean."
   ]
  },
  {
   "cell_type": "code",
   "execution_count": 13,
   "metadata": {},
   "outputs": [
    {
     "name": "stdout",
     "output_type": "stream",
     "text": [
      "[4 5 4 5]\n"
     ]
    }
   ],
   "source": [
    "my_array = np.array([lst, lst])\n",
    "\n",
    "# Return only values greater than 3 from our array \n",
    "condition = (my_array > 3)\n",
    "filtered_array = my_array[condition]\n",
    "print(filtered_array)"
   ]
  },
  {
   "cell_type": "markdown",
   "metadata": {
    "slideshow": {
     "slide_type": "slide"
    }
   },
   "source": [
    "<div class=\"alert alert-success\">\n",
    "\n",
    "**Task**: Subset `bool_array` so that it is only the true values.\n",
    "\n",
    "</div>"
   ]
  },
  {
   "cell_type": "code",
   "execution_count": 15,
   "metadata": {},
   "outputs": [
    {
     "data": {
      "text/plain": [
       "array([ True,  True])"
      ]
     },
     "execution_count": 15,
     "metadata": {},
     "output_type": "execute_result"
    }
   ],
   "source": [
    "bool_array[bool_array==True]"
   ]
  },
  {
   "cell_type": "markdown",
   "metadata": {
    "slideshow": {
     "slide_type": "slide"
    }
   },
   "source": [
    "We can also change values in an array similar to how we would change values in a list."
   ]
  },
  {
   "cell_type": "code",
   "execution_count": 25,
   "metadata": {
    "slideshow": {
     "slide_type": "fragment"
    }
   },
   "outputs": [
    {
     "data": {
      "text/plain": [
       "array([[100,   2,   3,   4,   5],\n",
       "       [  1,   2,   3,   4,   5]])"
      ]
     },
     "execution_count": 25,
     "metadata": {},
     "output_type": "execute_result"
    }
   ],
   "source": [
    "# Assign a value to an index in my_matrix\n",
    "my_matrix[0,0] = 100\n",
    "my_matrix"
   ]
  },
  {
   "cell_type": "markdown",
   "metadata": {
    "slideshow": {
     "slide_type": "slide"
    }
   },
   "source": [
    "### Benefits of using arrays\n",
    "In addition to being less clunky & a bit faster than lists of lists, arrays can do a lot of things that lists can't. For example, we can add and multiply them. Alternatively, we can use the `sum` method to sum across a specific axis."
   ]
  },
  {
   "cell_type": "code",
   "execution_count": 27,
   "metadata": {
    "slideshow": {
     "slide_type": "fragment"
    }
   },
   "outputs": [
    {
     "name": "stdout",
     "output_type": "stream",
     "text": [
      "[1, 3, 5, 3, 5, 7]\n",
      "[ 4  8 12]\n",
      "[ 3 15 35]\n"
     ]
    }
   ],
   "source": [
    "# Demonstrate differences between lists and arrays\n",
    "sum_list = [1,3,5] + [3,5,7]\n",
    "sum_array = np.array([1,3,5]) + np.array([3,5,7])\n",
    "mult_array = np.array([1,3,5]) * np.array([3,5,7])\n",
    "\n",
    "print(sum_list)\n",
    "print(sum_array)\n",
    "print(mult_array)"
   ]
  },
  {
   "cell_type": "code",
   "execution_count": 28,
   "metadata": {
    "slideshow": {
     "slide_type": "slide"
    }
   },
   "outputs": [
    {
     "name": "stdout",
     "output_type": "stream",
     "text": [
      "[[1 3 5]\n",
      " [3 5 7]]\n",
      "[ 9 15]\n"
     ]
    }
   ],
   "source": [
    "# Sum over a specific axis\n",
    "this_array = np.array([[1,3,5],[3,5,7]])\n",
    "sum_rows = this_array.sum(axis=1)\n",
    "print(this_array)\n",
    "print(sum_rows)"
   ]
  },
  {
   "cell_type": "markdown",
   "metadata": {
    "slideshow": {
     "slide_type": "slide"
    }
   },
   "source": [
    "### Numpy also includes some very useful array generating functions:\n",
    "\n",
    "* `arange`: like `range` but gives you a useful numpy array, instead of an interator, and can use more than just integers)\n",
    "* `linspace` creates an array with given start and end points, and a desired number of points\n",
    "* `logspace` same as linspace, but in log.\n",
    "* `random` can create a random list (there are <a href=\"https://docs.scipy.org/doc/numpy-1.14.0/reference/routines.random.html\">many different ways to use this</a>)\n",
    "* `concatenate` which can concatenate two arrays along an existing axis [<a href=\"https://docs.scipy.org/doc/numpy/reference/generated/numpy.concatenate.html\">documentation</a>]\n",
    "* `hstack` and `vstack` which can horizontally or vertically stack arrays\n",
    "\n",
    "Whenever we call these, we need to use whatever name we imported numpy as (here, `np`)."
   ]
  },
  {
   "cell_type": "code",
   "execution_count": null,
   "metadata": {
    "slideshow": {
     "slide_type": "fragment"
    }
   },
   "outputs": [],
   "source": [
    "# When using linspace, both end points are included!\n",
    "np.linspace(0,147,10)"
   ]
  },
  {
   "cell_type": "markdown",
   "metadata": {
    "slideshow": {
     "slide_type": "slide"
    }
   },
   "source": [
    "Numpy also has built in methods to save and load arrays: `np.save()` and `np.load()`. Numpy files have a .npy extension.\n",
    "\n",
    "See full documentation <a href=\"https://docs.scipy.org/doc/numpy/reference/generated/numpy.save.html\">here</a>."
   ]
  },
  {
   "cell_type": "code",
   "execution_count": null,
   "metadata": {
    "slideshow": {
     "slide_type": "fragment"
    }
   },
   "outputs": [],
   "source": [
    "# Save method takes arguments 'filename' and then 'array':\n",
    "np.save('matrix',my_matrix)"
   ]
  },
  {
   "cell_type": "code",
   "execution_count": null,
   "metadata": {
    "slideshow": {
     "slide_type": "fragment"
    }
   },
   "outputs": [],
   "source": [
    "my_new_matrix = np.load('matrix.npy')\n",
    "my_new_matrix"
   ]
  },
  {
   "cell_type": "markdown",
   "metadata": {
    "slideshow": {
     "slide_type": "slide"
    }
   },
   "source": [
    "# Pandas\n",
    "\n",
    "Pandas is a useful module that creates **dataframes** (think of these like Excel spreadsheets, but much faster!). We can think of Pandas as \"numpy with labels\"."
   ]
  },
  {
   "cell_type": "markdown",
   "metadata": {
    "slideshow": {
     "slide_type": "slide"
    }
   },
   "source": [
    "### Benefits of Pandas\n",
    "* Great for real-world, heterogeneous data\n",
    "* Similar to Excel spreadsheets (but way faster!)\n",
    "* Smartly deals with missing data\n",
    "\n",
    "The two data structures of Pandas are the `Series` and the `DataFrame`. A `Series` is a one-dimensional onject similar to a list. A `DataFrame` can be thought of as a two-dimensional numpy array or a collection of `Series` objects. Series and dataframes can contain multiple different data types such as integers, strings, and floats, similar to an Excel spreadsheet. Pandas also supports `string` lables unlike numpy arrays which only have numeric labels for their rows and columns. For a more in depth explanation, please visit the [Introduction to Data Structures](https://pandas.pydata.org/pandas-docs/stable/user_guide/dsintro.html) section in the Pandas User Guide. \n",
    "\n",
    "You can create a Pandas dataframe by inputting dictionaries into the Pandas function `pd.DataFrame()`, by reading files, or through functions built into the Pandas package. The function [`pd.read_csv()`](https://pandas.pydata.org/pandas-docs/stable/reference/api/pandas.read_csv.html) reads a comma- or tab-separated file and returns it as a `dataframe`.\n",
    "\n",
    "\n",
    "## Loading in data as a dataframe\n",
    "Below we will create a dataframe by reading the file `brainarea_vs_genes_exp_w_reannotations.tsv` which contains information on gene expression accross multiple brain areas. \n",
    "\n",
    ">**About this dataset:**\n",
    "This dataset was created by Derek Howard and Abigail Mayes for the purpose of accelerating advances in data mining of open brain transcriptome data for polygenetic brain disorders. The data comes from normalized microarray datasets of gene expression from 6 adult human brains that was released by the Allen Brain Institute and then processed into the dataframe we will see below. For more information on this dataset please visit the <a href = \"https://github.com/derekhoward/HBAsets\"> HBAsets repository</a>. \n"
   ]
  },
  {
   "cell_type": "code",
   "execution_count": 29,
   "metadata": {
    "slideshow": {
     "slide_type": "slide"
    }
   },
   "outputs": [
    {
     "data": {
      "text/html": [
       "<div>\n",
       "<style scoped>\n",
       "    .dataframe tbody tr th:only-of-type {\n",
       "        vertical-align: middle;\n",
       "    }\n",
       "\n",
       "    .dataframe tbody tr th {\n",
       "        vertical-align: top;\n",
       "    }\n",
       "\n",
       "    .dataframe thead th {\n",
       "        text-align: right;\n",
       "    }\n",
       "</style>\n",
       "<table border=\"1\" class=\"dataframe\">\n",
       "  <thead>\n",
       "    <tr style=\"text-align: right;\">\n",
       "      <th></th>\n",
       "      <th>gene_symbol</th>\n",
       "      <th>CA1 field</th>\n",
       "      <th>CA2 field</th>\n",
       "      <th>CA3 field</th>\n",
       "      <th>CA4 field</th>\n",
       "      <th>Crus I, lateral hemisphere</th>\n",
       "      <th>Crus I, paravermis</th>\n",
       "      <th>Crus II, lateral hemisphere</th>\n",
       "      <th>Crus II, paravermis</th>\n",
       "      <th>Edinger-Westphal nucleus</th>\n",
       "      <th>...</th>\n",
       "      <th>temporal pole, inferior aspect</th>\n",
       "      <th>temporal pole, medial aspect</th>\n",
       "      <th>temporal pole, superior aspect</th>\n",
       "      <th>transverse gyri</th>\n",
       "      <th>trochlear nucleus</th>\n",
       "      <th>tuberomammillary nucleus</th>\n",
       "      <th>ventral tegmental area</th>\n",
       "      <th>ventromedial hypothalamic nucleus</th>\n",
       "      <th>vestibular nuclei</th>\n",
       "      <th>zona incerta</th>\n",
       "    </tr>\n",
       "  </thead>\n",
       "  <tbody>\n",
       "    <tr>\n",
       "      <th>0</th>\n",
       "      <td>A1BG</td>\n",
       "      <td>0.856487</td>\n",
       "      <td>-1.773695</td>\n",
       "      <td>-0.678679</td>\n",
       "      <td>-0.986914</td>\n",
       "      <td>0.826986</td>\n",
       "      <td>0.948039</td>\n",
       "      <td>0.935427</td>\n",
       "      <td>1.120774</td>\n",
       "      <td>-1.018554</td>\n",
       "      <td>...</td>\n",
       "      <td>0.277830</td>\n",
       "      <td>0.514923</td>\n",
       "      <td>0.733368</td>\n",
       "      <td>-0.104286</td>\n",
       "      <td>-0.910245</td>\n",
       "      <td>1.039610</td>\n",
       "      <td>-0.155167</td>\n",
       "      <td>-0.444398</td>\n",
       "      <td>-0.901361</td>\n",
       "      <td>-0.236790</td>\n",
       "    </tr>\n",
       "    <tr>\n",
       "      <th>1</th>\n",
       "      <td>A1BG-AS1</td>\n",
       "      <td>0.257664</td>\n",
       "      <td>-1.373085</td>\n",
       "      <td>-0.619923</td>\n",
       "      <td>-0.636275</td>\n",
       "      <td>0.362799</td>\n",
       "      <td>0.353296</td>\n",
       "      <td>0.422766</td>\n",
       "      <td>0.346853</td>\n",
       "      <td>-0.812015</td>\n",
       "      <td>...</td>\n",
       "      <td>1.074116</td>\n",
       "      <td>0.821031</td>\n",
       "      <td>1.219272</td>\n",
       "      <td>0.901213</td>\n",
       "      <td>-1.522431</td>\n",
       "      <td>0.598719</td>\n",
       "      <td>-1.709745</td>\n",
       "      <td>-0.054156</td>\n",
       "      <td>-1.695843</td>\n",
       "      <td>-1.155961</td>\n",
       "    </tr>\n",
       "    <tr>\n",
       "      <th>2</th>\n",
       "      <td>A1CF</td>\n",
       "      <td>-0.089614</td>\n",
       "      <td>-0.546903</td>\n",
       "      <td>0.282914</td>\n",
       "      <td>-0.528926</td>\n",
       "      <td>0.507916</td>\n",
       "      <td>0.577696</td>\n",
       "      <td>0.647671</td>\n",
       "      <td>0.306824</td>\n",
       "      <td>0.089958</td>\n",
       "      <td>...</td>\n",
       "      <td>-0.030265</td>\n",
       "      <td>-0.187367</td>\n",
       "      <td>-0.428358</td>\n",
       "      <td>-0.465863</td>\n",
       "      <td>-0.136936</td>\n",
       "      <td>1.229487</td>\n",
       "      <td>-0.110680</td>\n",
       "      <td>-0.118175</td>\n",
       "      <td>-0.139776</td>\n",
       "      <td>0.123829</td>\n",
       "    </tr>\n",
       "    <tr>\n",
       "      <th>3</th>\n",
       "      <td>A2M</td>\n",
       "      <td>0.552415</td>\n",
       "      <td>-0.635485</td>\n",
       "      <td>-0.954995</td>\n",
       "      <td>-0.259745</td>\n",
       "      <td>-1.687391</td>\n",
       "      <td>-1.756847</td>\n",
       "      <td>-1.640242</td>\n",
       "      <td>-1.733110</td>\n",
       "      <td>-0.091695</td>\n",
       "      <td>...</td>\n",
       "      <td>-0.058505</td>\n",
       "      <td>0.207109</td>\n",
       "      <td>-0.161808</td>\n",
       "      <td>0.183630</td>\n",
       "      <td>0.948098</td>\n",
       "      <td>-0.977692</td>\n",
       "      <td>0.911896</td>\n",
       "      <td>-0.499357</td>\n",
       "      <td>1.469386</td>\n",
       "      <td>0.557998</td>\n",
       "    </tr>\n",
       "    <tr>\n",
       "      <th>4</th>\n",
       "      <td>A2ML1</td>\n",
       "      <td>0.758031</td>\n",
       "      <td>1.549857</td>\n",
       "      <td>1.262225</td>\n",
       "      <td>1.338780</td>\n",
       "      <td>-0.289888</td>\n",
       "      <td>-0.407026</td>\n",
       "      <td>-0.358798</td>\n",
       "      <td>-0.589988</td>\n",
       "      <td>0.944684</td>\n",
       "      <td>...</td>\n",
       "      <td>-0.472908</td>\n",
       "      <td>-0.598317</td>\n",
       "      <td>-0.247797</td>\n",
       "      <td>-0.282673</td>\n",
       "      <td>1.396365</td>\n",
       "      <td>0.945043</td>\n",
       "      <td>0.158202</td>\n",
       "      <td>0.572771</td>\n",
       "      <td>0.073088</td>\n",
       "      <td>-0.886780</td>\n",
       "    </tr>\n",
       "  </tbody>\n",
       "</table>\n",
       "<p>5 rows × 233 columns</p>\n",
       "</div>"
      ],
      "text/plain": [
       "  gene_symbol  CA1 field  CA2 field  CA3 field  CA4 field  \\\n",
       "0        A1BG   0.856487  -1.773695  -0.678679  -0.986914   \n",
       "1    A1BG-AS1   0.257664  -1.373085  -0.619923  -0.636275   \n",
       "2        A1CF  -0.089614  -0.546903   0.282914  -0.528926   \n",
       "3         A2M   0.552415  -0.635485  -0.954995  -0.259745   \n",
       "4       A2ML1   0.758031   1.549857   1.262225   1.338780   \n",
       "\n",
       "   Crus I, lateral hemisphere  Crus I, paravermis  \\\n",
       "0                    0.826986            0.948039   \n",
       "1                    0.362799            0.353296   \n",
       "2                    0.507916            0.577696   \n",
       "3                   -1.687391           -1.756847   \n",
       "4                   -0.289888           -0.407026   \n",
       "\n",
       "   Crus II, lateral hemisphere  Crus II, paravermis  Edinger-Westphal nucleus  \\\n",
       "0                     0.935427             1.120774                 -1.018554   \n",
       "1                     0.422766             0.346853                 -0.812015   \n",
       "2                     0.647671             0.306824                  0.089958   \n",
       "3                    -1.640242            -1.733110                 -0.091695   \n",
       "4                    -0.358798            -0.589988                  0.944684   \n",
       "\n",
       "   ...  temporal pole, inferior aspect  temporal pole, medial aspect  \\\n",
       "0  ...                        0.277830                      0.514923   \n",
       "1  ...                        1.074116                      0.821031   \n",
       "2  ...                       -0.030265                     -0.187367   \n",
       "3  ...                       -0.058505                      0.207109   \n",
       "4  ...                       -0.472908                     -0.598317   \n",
       "\n",
       "   temporal pole, superior aspect  transverse gyri  trochlear nucleus  \\\n",
       "0                        0.733368        -0.104286          -0.910245   \n",
       "1                        1.219272         0.901213          -1.522431   \n",
       "2                       -0.428358        -0.465863          -0.136936   \n",
       "3                       -0.161808         0.183630           0.948098   \n",
       "4                       -0.247797        -0.282673           1.396365   \n",
       "\n",
       "   tuberomammillary nucleus  ventral tegmental area  \\\n",
       "0                  1.039610               -0.155167   \n",
       "1                  0.598719               -1.709745   \n",
       "2                  1.229487               -0.110680   \n",
       "3                 -0.977692                0.911896   \n",
       "4                  0.945043                0.158202   \n",
       "\n",
       "   ventromedial hypothalamic nucleus  vestibular nuclei  zona incerta  \n",
       "0                          -0.444398          -0.901361     -0.236790  \n",
       "1                          -0.054156          -1.695843     -1.155961  \n",
       "2                          -0.118175          -0.139776      0.123829  \n",
       "3                          -0.499357           1.469386      0.557998  \n",
       "4                           0.572771           0.073088     -0.886780  \n",
       "\n",
       "[5 rows x 233 columns]"
      ]
     },
     "execution_count": 29,
     "metadata": {},
     "output_type": "execute_result"
    }
   ],
   "source": [
    "# Read in the file as a data frame\n",
    "file_name = 'Data/brainarea_vs_genes_exp_w_reannotations.tsv'\n",
    "\n",
    "# Use pd.read_csv\n",
    "gene_df = pd.read_csv(file_name,delimiter='\\t')\n",
    "\n",
    "# '.head()' returns the first 5 rows in the dataframe\n",
    "gene_df.head()"
   ]
  },
  {
   "cell_type": "markdown",
   "metadata": {},
   "source": [
    "At the moment, the first column  of information above, the **index** just contains a list of numbers. We can reassign the row labels by using the method `set_index()`. We can choose any column in our present dataframe to be the row values. Let's assign the row lables to be the `gene_symbol` and reassign the dataframe. "
   ]
  },
  {
   "cell_type": "code",
   "execution_count": 30,
   "metadata": {},
   "outputs": [
    {
     "data": {
      "text/html": [
       "<div>\n",
       "<style scoped>\n",
       "    .dataframe tbody tr th:only-of-type {\n",
       "        vertical-align: middle;\n",
       "    }\n",
       "\n",
       "    .dataframe tbody tr th {\n",
       "        vertical-align: top;\n",
       "    }\n",
       "\n",
       "    .dataframe thead th {\n",
       "        text-align: right;\n",
       "    }\n",
       "</style>\n",
       "<table border=\"1\" class=\"dataframe\">\n",
       "  <thead>\n",
       "    <tr style=\"text-align: right;\">\n",
       "      <th></th>\n",
       "      <th>CA1 field</th>\n",
       "      <th>CA2 field</th>\n",
       "      <th>CA3 field</th>\n",
       "      <th>CA4 field</th>\n",
       "      <th>Crus I, lateral hemisphere</th>\n",
       "      <th>Crus I, paravermis</th>\n",
       "      <th>Crus II, lateral hemisphere</th>\n",
       "      <th>Crus II, paravermis</th>\n",
       "      <th>Edinger-Westphal nucleus</th>\n",
       "      <th>Heschl's gyrus</th>\n",
       "      <th>...</th>\n",
       "      <th>temporal pole, inferior aspect</th>\n",
       "      <th>temporal pole, medial aspect</th>\n",
       "      <th>temporal pole, superior aspect</th>\n",
       "      <th>transverse gyri</th>\n",
       "      <th>trochlear nucleus</th>\n",
       "      <th>tuberomammillary nucleus</th>\n",
       "      <th>ventral tegmental area</th>\n",
       "      <th>ventromedial hypothalamic nucleus</th>\n",
       "      <th>vestibular nuclei</th>\n",
       "      <th>zona incerta</th>\n",
       "    </tr>\n",
       "    <tr>\n",
       "      <th>gene_symbol</th>\n",
       "      <th></th>\n",
       "      <th></th>\n",
       "      <th></th>\n",
       "      <th></th>\n",
       "      <th></th>\n",
       "      <th></th>\n",
       "      <th></th>\n",
       "      <th></th>\n",
       "      <th></th>\n",
       "      <th></th>\n",
       "      <th></th>\n",
       "      <th></th>\n",
       "      <th></th>\n",
       "      <th></th>\n",
       "      <th></th>\n",
       "      <th></th>\n",
       "      <th></th>\n",
       "      <th></th>\n",
       "      <th></th>\n",
       "      <th></th>\n",
       "      <th></th>\n",
       "    </tr>\n",
       "  </thead>\n",
       "  <tbody>\n",
       "    <tr>\n",
       "      <th>A1BG</th>\n",
       "      <td>0.856487</td>\n",
       "      <td>-1.773695</td>\n",
       "      <td>-0.678679</td>\n",
       "      <td>-0.986914</td>\n",
       "      <td>0.826986</td>\n",
       "      <td>0.948039</td>\n",
       "      <td>0.935427</td>\n",
       "      <td>1.120774</td>\n",
       "      <td>-1.018554</td>\n",
       "      <td>0.170282</td>\n",
       "      <td>...</td>\n",
       "      <td>0.277830</td>\n",
       "      <td>0.514923</td>\n",
       "      <td>0.733368</td>\n",
       "      <td>-0.104286</td>\n",
       "      <td>-0.910245</td>\n",
       "      <td>1.039610</td>\n",
       "      <td>-0.155167</td>\n",
       "      <td>-0.444398</td>\n",
       "      <td>-0.901361</td>\n",
       "      <td>-0.236790</td>\n",
       "    </tr>\n",
       "    <tr>\n",
       "      <th>A1BG-AS1</th>\n",
       "      <td>0.257664</td>\n",
       "      <td>-1.373085</td>\n",
       "      <td>-0.619923</td>\n",
       "      <td>-0.636275</td>\n",
       "      <td>0.362799</td>\n",
       "      <td>0.353296</td>\n",
       "      <td>0.422766</td>\n",
       "      <td>0.346853</td>\n",
       "      <td>-0.812015</td>\n",
       "      <td>0.903358</td>\n",
       "      <td>...</td>\n",
       "      <td>1.074116</td>\n",
       "      <td>0.821031</td>\n",
       "      <td>1.219272</td>\n",
       "      <td>0.901213</td>\n",
       "      <td>-1.522431</td>\n",
       "      <td>0.598719</td>\n",
       "      <td>-1.709745</td>\n",
       "      <td>-0.054156</td>\n",
       "      <td>-1.695843</td>\n",
       "      <td>-1.155961</td>\n",
       "    </tr>\n",
       "    <tr>\n",
       "      <th>A1CF</th>\n",
       "      <td>-0.089614</td>\n",
       "      <td>-0.546903</td>\n",
       "      <td>0.282914</td>\n",
       "      <td>-0.528926</td>\n",
       "      <td>0.507916</td>\n",
       "      <td>0.577696</td>\n",
       "      <td>0.647671</td>\n",
       "      <td>0.306824</td>\n",
       "      <td>0.089958</td>\n",
       "      <td>0.149820</td>\n",
       "      <td>...</td>\n",
       "      <td>-0.030265</td>\n",
       "      <td>-0.187367</td>\n",
       "      <td>-0.428358</td>\n",
       "      <td>-0.465863</td>\n",
       "      <td>-0.136936</td>\n",
       "      <td>1.229487</td>\n",
       "      <td>-0.110680</td>\n",
       "      <td>-0.118175</td>\n",
       "      <td>-0.139776</td>\n",
       "      <td>0.123829</td>\n",
       "    </tr>\n",
       "    <tr>\n",
       "      <th>A2M</th>\n",
       "      <td>0.552415</td>\n",
       "      <td>-0.635485</td>\n",
       "      <td>-0.954995</td>\n",
       "      <td>-0.259745</td>\n",
       "      <td>-1.687391</td>\n",
       "      <td>-1.756847</td>\n",
       "      <td>-1.640242</td>\n",
       "      <td>-1.733110</td>\n",
       "      <td>-0.091695</td>\n",
       "      <td>0.003428</td>\n",
       "      <td>...</td>\n",
       "      <td>-0.058505</td>\n",
       "      <td>0.207109</td>\n",
       "      <td>-0.161808</td>\n",
       "      <td>0.183630</td>\n",
       "      <td>0.948098</td>\n",
       "      <td>-0.977692</td>\n",
       "      <td>0.911896</td>\n",
       "      <td>-0.499357</td>\n",
       "      <td>1.469386</td>\n",
       "      <td>0.557998</td>\n",
       "    </tr>\n",
       "    <tr>\n",
       "      <th>A2ML1</th>\n",
       "      <td>0.758031</td>\n",
       "      <td>1.549857</td>\n",
       "      <td>1.262225</td>\n",
       "      <td>1.338780</td>\n",
       "      <td>-0.289888</td>\n",
       "      <td>-0.407026</td>\n",
       "      <td>-0.358798</td>\n",
       "      <td>-0.589988</td>\n",
       "      <td>0.944684</td>\n",
       "      <td>-0.466327</td>\n",
       "      <td>...</td>\n",
       "      <td>-0.472908</td>\n",
       "      <td>-0.598317</td>\n",
       "      <td>-0.247797</td>\n",
       "      <td>-0.282673</td>\n",
       "      <td>1.396365</td>\n",
       "      <td>0.945043</td>\n",
       "      <td>0.158202</td>\n",
       "      <td>0.572771</td>\n",
       "      <td>0.073088</td>\n",
       "      <td>-0.886780</td>\n",
       "    </tr>\n",
       "  </tbody>\n",
       "</table>\n",
       "<p>5 rows × 232 columns</p>\n",
       "</div>"
      ],
      "text/plain": [
       "             CA1 field  CA2 field  CA3 field  CA4 field  \\\n",
       "gene_symbol                                               \n",
       "A1BG          0.856487  -1.773695  -0.678679  -0.986914   \n",
       "A1BG-AS1      0.257664  -1.373085  -0.619923  -0.636275   \n",
       "A1CF         -0.089614  -0.546903   0.282914  -0.528926   \n",
       "A2M           0.552415  -0.635485  -0.954995  -0.259745   \n",
       "A2ML1         0.758031   1.549857   1.262225   1.338780   \n",
       "\n",
       "             Crus I, lateral hemisphere  Crus I, paravermis  \\\n",
       "gene_symbol                                                   \n",
       "A1BG                           0.826986            0.948039   \n",
       "A1BG-AS1                       0.362799            0.353296   \n",
       "A1CF                           0.507916            0.577696   \n",
       "A2M                           -1.687391           -1.756847   \n",
       "A2ML1                         -0.289888           -0.407026   \n",
       "\n",
       "             Crus II, lateral hemisphere  Crus II, paravermis  \\\n",
       "gene_symbol                                                     \n",
       "A1BG                            0.935427             1.120774   \n",
       "A1BG-AS1                        0.422766             0.346853   \n",
       "A1CF                            0.647671             0.306824   \n",
       "A2M                            -1.640242            -1.733110   \n",
       "A2ML1                          -0.358798            -0.589988   \n",
       "\n",
       "             Edinger-Westphal nucleus  Heschl's gyrus  ...  \\\n",
       "gene_symbol                                            ...   \n",
       "A1BG                        -1.018554        0.170282  ...   \n",
       "A1BG-AS1                    -0.812015        0.903358  ...   \n",
       "A1CF                         0.089958        0.149820  ...   \n",
       "A2M                         -0.091695        0.003428  ...   \n",
       "A2ML1                        0.944684       -0.466327  ...   \n",
       "\n",
       "             temporal pole, inferior aspect  temporal pole, medial aspect  \\\n",
       "gene_symbol                                                                 \n",
       "A1BG                               0.277830                      0.514923   \n",
       "A1BG-AS1                           1.074116                      0.821031   \n",
       "A1CF                              -0.030265                     -0.187367   \n",
       "A2M                               -0.058505                      0.207109   \n",
       "A2ML1                             -0.472908                     -0.598317   \n",
       "\n",
       "             temporal pole, superior aspect  transverse gyri  \\\n",
       "gene_symbol                                                    \n",
       "A1BG                               0.733368        -0.104286   \n",
       "A1BG-AS1                           1.219272         0.901213   \n",
       "A1CF                              -0.428358        -0.465863   \n",
       "A2M                               -0.161808         0.183630   \n",
       "A2ML1                             -0.247797        -0.282673   \n",
       "\n",
       "             trochlear nucleus  tuberomammillary nucleus  \\\n",
       "gene_symbol                                                \n",
       "A1BG                 -0.910245                  1.039610   \n",
       "A1BG-AS1             -1.522431                  0.598719   \n",
       "A1CF                 -0.136936                  1.229487   \n",
       "A2M                   0.948098                 -0.977692   \n",
       "A2ML1                 1.396365                  0.945043   \n",
       "\n",
       "             ventral tegmental area  ventromedial hypothalamic nucleus  \\\n",
       "gene_symbol                                                              \n",
       "A1BG                      -0.155167                          -0.444398   \n",
       "A1BG-AS1                  -1.709745                          -0.054156   \n",
       "A1CF                      -0.110680                          -0.118175   \n",
       "A2M                        0.911896                          -0.499357   \n",
       "A2ML1                      0.158202                           0.572771   \n",
       "\n",
       "             vestibular nuclei  zona incerta  \n",
       "gene_symbol                                   \n",
       "A1BG                 -0.901361     -0.236790  \n",
       "A1BG-AS1             -1.695843     -1.155961  \n",
       "A1CF                 -0.139776      0.123829  \n",
       "A2M                   1.469386      0.557998  \n",
       "A2ML1                 0.073088     -0.886780  \n",
       "\n",
       "[5 rows x 232 columns]"
      ]
     },
     "execution_count": 30,
     "metadata": {},
     "output_type": "execute_result"
    }
   ],
   "source": [
    "# Set the index\n",
    "gene_df = gene_df.set_index('gene_symbol')\n",
    "gene_df.head()"
   ]
  },
  {
   "cell_type": "markdown",
   "metadata": {
    "slideshow": {
     "slide_type": "slide"
    }
   },
   "source": [
    "## Indexing\n",
    "\n",
    "Indexing in Pandas works slightly different than in NumPy. Similar to a dictionary, we can index dataframes by their names. \n",
    "\n",
    "The syntax for indexing single locations in a dataframe is `dataframe.loc[row_label,column_label]`. To index an individual column, we use the shorthand syntax `dataframe[column_label]`. To index an individual row, we use the syntax `dataframe.loc[row_label]`. To index by index #, we use the syntax `dataframe.iloc[index_number]`. Below are some examples on how to access rows, columns, and single values in our dataframe. For more information on indexing dataframes, visit the <a href = \"https://pandas.pydata.org/docs/user_guide/indexing.html#indexing\"> \"Indexing and selecting data\"</a> section in the Pandas User Guide."
   ]
  },
  {
   "cell_type": "code",
   "execution_count": 31,
   "metadata": {
    "scrolled": true,
    "slideshow": {
     "slide_type": "fragment"
    }
   },
   "outputs": [
    {
     "data": {
      "text/plain": [
       "CA1 field                            0.102347\n",
       "CA2 field                           -0.035143\n",
       "CA3 field                           -0.140160\n",
       "CA4 field                            0.377563\n",
       "Crus I, lateral hemisphere          -1.288241\n",
       "                                       ...   \n",
       "tuberomammillary nucleus            -0.389785\n",
       "ventral tegmental area               1.393981\n",
       "ventromedial hypothalamic nucleus    0.269831\n",
       "vestibular nuclei                    1.381197\n",
       "zona incerta                         1.515921\n",
       "Name: DISC1, Length: 232, dtype: float64"
      ]
     },
     "execution_count": 31,
     "metadata": {},
     "output_type": "execute_result"
    }
   ],
   "source": [
    "# Get 'DISC1' data using loc\n",
    "DISC1_data = gene_df.loc['DISC1']\n",
    "DISC1_data"
   ]
  },
  {
   "cell_type": "code",
   "execution_count": 32,
   "metadata": {},
   "outputs": [
    {
     "data": {
      "text/plain": [
       "gene_symbol\n",
       "A1BG        0.856487\n",
       "A1BG-AS1    0.257664\n",
       "A1CF       -0.089614\n",
       "A2M         0.552415\n",
       "A2ML1       0.758031\n",
       "              ...   \n",
       "ZYG11A     -0.496398\n",
       "ZYG11B     -0.856866\n",
       "ZYX        -1.941816\n",
       "ZZEF1      -0.015748\n",
       "ZZZ3       -0.924901\n",
       "Name: CA1 field, Length: 20869, dtype: float64"
      ]
     },
     "execution_count": 32,
     "metadata": {},
     "output_type": "execute_result"
    }
   ],
   "source": [
    "gene_df['CA1 field']"
   ]
  },
  {
   "cell_type": "markdown",
   "metadata": {
    "slideshow": {
     "slide_type": "slide"
    }
   },
   "source": [
    "Pandas has many, many useful methods that you can use on your data, including `describe`, `mean`, and more. To learn more about all the different methods that can be used to manipulate and analyze dataframes, please visit the <a href = \"https://pandas.pydata.org/docs/user_guide/index.html\"> Pandas User Guide </a>. \n",
    "* The `describe` method returns descriptive statistics of all the columns in our dataframe. \n",
    "* The `mean` and `std` method return the mean and standard deviation of each column in the dataframe, respectfully. "
   ]
  },
  {
   "cell_type": "code",
   "execution_count": 33,
   "metadata": {},
   "outputs": [
    {
     "data": {
      "text/html": [
       "<div>\n",
       "<style scoped>\n",
       "    .dataframe tbody tr th:only-of-type {\n",
       "        vertical-align: middle;\n",
       "    }\n",
       "\n",
       "    .dataframe tbody tr th {\n",
       "        vertical-align: top;\n",
       "    }\n",
       "\n",
       "    .dataframe thead th {\n",
       "        text-align: right;\n",
       "    }\n",
       "</style>\n",
       "<table border=\"1\" class=\"dataframe\">\n",
       "  <thead>\n",
       "    <tr style=\"text-align: right;\">\n",
       "      <th></th>\n",
       "      <th>CA1 field</th>\n",
       "      <th>CA2 field</th>\n",
       "      <th>CA3 field</th>\n",
       "      <th>CA4 field</th>\n",
       "      <th>Crus I, lateral hemisphere</th>\n",
       "      <th>Crus I, paravermis</th>\n",
       "      <th>Crus II, lateral hemisphere</th>\n",
       "      <th>Crus II, paravermis</th>\n",
       "      <th>Edinger-Westphal nucleus</th>\n",
       "      <th>Heschl's gyrus</th>\n",
       "      <th>...</th>\n",
       "      <th>temporal pole, inferior aspect</th>\n",
       "      <th>temporal pole, medial aspect</th>\n",
       "      <th>temporal pole, superior aspect</th>\n",
       "      <th>transverse gyri</th>\n",
       "      <th>trochlear nucleus</th>\n",
       "      <th>tuberomammillary nucleus</th>\n",
       "      <th>ventral tegmental area</th>\n",
       "      <th>ventromedial hypothalamic nucleus</th>\n",
       "      <th>vestibular nuclei</th>\n",
       "      <th>zona incerta</th>\n",
       "    </tr>\n",
       "  </thead>\n",
       "  <tbody>\n",
       "    <tr>\n",
       "      <th>count</th>\n",
       "      <td>20869.000000</td>\n",
       "      <td>20869.000000</td>\n",
       "      <td>20869.000000</td>\n",
       "      <td>20869.000000</td>\n",
       "      <td>20869.000000</td>\n",
       "      <td>20869.000000</td>\n",
       "      <td>20869.000000</td>\n",
       "      <td>20869.000000</td>\n",
       "      <td>20869.000000</td>\n",
       "      <td>20869.000000</td>\n",
       "      <td>...</td>\n",
       "      <td>20869.000000</td>\n",
       "      <td>20869.000000</td>\n",
       "      <td>20869.000000</td>\n",
       "      <td>20869.000000</td>\n",
       "      <td>20869.000000</td>\n",
       "      <td>20869.000000</td>\n",
       "      <td>20869.000000</td>\n",
       "      <td>20869.000000</td>\n",
       "      <td>20869.000000</td>\n",
       "      <td>20869.000000</td>\n",
       "    </tr>\n",
       "    <tr>\n",
       "      <th>mean</th>\n",
       "      <td>0.003664</td>\n",
       "      <td>0.017002</td>\n",
       "      <td>0.015315</td>\n",
       "      <td>-0.016633</td>\n",
       "      <td>0.093686</td>\n",
       "      <td>0.088810</td>\n",
       "      <td>0.096118</td>\n",
       "      <td>0.087608</td>\n",
       "      <td>0.047124</td>\n",
       "      <td>-0.042517</td>\n",
       "      <td>...</td>\n",
       "      <td>-0.056050</td>\n",
       "      <td>-0.051731</td>\n",
       "      <td>-0.049905</td>\n",
       "      <td>-0.039528</td>\n",
       "      <td>0.059726</td>\n",
       "      <td>0.014856</td>\n",
       "      <td>0.009535</td>\n",
       "      <td>-0.002853</td>\n",
       "      <td>-0.002527</td>\n",
       "      <td>0.013018</td>\n",
       "    </tr>\n",
       "    <tr>\n",
       "      <th>std</th>\n",
       "      <td>0.924456</td>\n",
       "      <td>1.129368</td>\n",
       "      <td>1.078987</td>\n",
       "      <td>0.897192</td>\n",
       "      <td>1.146146</td>\n",
       "      <td>1.118501</td>\n",
       "      <td>1.172986</td>\n",
       "      <td>1.136823</td>\n",
       "      <td>0.973224</td>\n",
       "      <td>0.500526</td>\n",
       "      <td>...</td>\n",
       "      <td>0.567950</td>\n",
       "      <td>0.651098</td>\n",
       "      <td>0.636729</td>\n",
       "      <td>0.494012</td>\n",
       "      <td>1.158916</td>\n",
       "      <td>0.897387</td>\n",
       "      <td>0.686320</td>\n",
       "      <td>0.830602</td>\n",
       "      <td>0.723977</td>\n",
       "      <td>0.725770</td>\n",
       "    </tr>\n",
       "    <tr>\n",
       "      <th>min</th>\n",
       "      <td>-4.076424</td>\n",
       "      <td>-5.923691</td>\n",
       "      <td>-5.994731</td>\n",
       "      <td>-3.971984</td>\n",
       "      <td>-2.739924</td>\n",
       "      <td>-2.662897</td>\n",
       "      <td>-2.908676</td>\n",
       "      <td>-2.864308</td>\n",
       "      <td>-3.671242</td>\n",
       "      <td>-1.666268</td>\n",
       "      <td>...</td>\n",
       "      <td>-1.840486</td>\n",
       "      <td>-2.433961</td>\n",
       "      <td>-2.412614</td>\n",
       "      <td>-1.655962</td>\n",
       "      <td>-6.330275</td>\n",
       "      <td>-3.141490</td>\n",
       "      <td>-1.977225</td>\n",
       "      <td>-3.541112</td>\n",
       "      <td>-2.369304</td>\n",
       "      <td>-2.348784</td>\n",
       "    </tr>\n",
       "    <tr>\n",
       "      <th>25%</th>\n",
       "      <td>-0.570475</td>\n",
       "      <td>-0.644093</td>\n",
       "      <td>-0.631248</td>\n",
       "      <td>-0.573605</td>\n",
       "      <td>-0.802651</td>\n",
       "      <td>-0.778933</td>\n",
       "      <td>-0.824404</td>\n",
       "      <td>-0.794683</td>\n",
       "      <td>-0.651691</td>\n",
       "      <td>-0.414882</td>\n",
       "      <td>...</td>\n",
       "      <td>-0.472481</td>\n",
       "      <td>-0.517562</td>\n",
       "      <td>-0.529458</td>\n",
       "      <td>-0.404416</td>\n",
       "      <td>-0.751329</td>\n",
       "      <td>-0.602619</td>\n",
       "      <td>-0.497988</td>\n",
       "      <td>-0.542164</td>\n",
       "      <td>-0.532177</td>\n",
       "      <td>-0.493921</td>\n",
       "    </tr>\n",
       "    <tr>\n",
       "      <th>50%</th>\n",
       "      <td>-0.025821</td>\n",
       "      <td>0.011189</td>\n",
       "      <td>0.006140</td>\n",
       "      <td>-0.044566</td>\n",
       "      <td>0.100558</td>\n",
       "      <td>0.098665</td>\n",
       "      <td>0.109358</td>\n",
       "      <td>0.096585</td>\n",
       "      <td>0.022760</td>\n",
       "      <td>-0.057495</td>\n",
       "      <td>...</td>\n",
       "      <td>-0.091029</td>\n",
       "      <td>-0.083971</td>\n",
       "      <td>-0.089572</td>\n",
       "      <td>-0.051758</td>\n",
       "      <td>0.037410</td>\n",
       "      <td>-0.030474</td>\n",
       "      <td>-0.023799</td>\n",
       "      <td>-0.023471</td>\n",
       "      <td>-0.045003</td>\n",
       "      <td>-0.031623</td>\n",
       "    </tr>\n",
       "    <tr>\n",
       "      <th>75%</th>\n",
       "      <td>0.561571</td>\n",
       "      <td>0.706946</td>\n",
       "      <td>0.706398</td>\n",
       "      <td>0.547903</td>\n",
       "      <td>0.985159</td>\n",
       "      <td>0.951919</td>\n",
       "      <td>1.007791</td>\n",
       "      <td>0.960813</td>\n",
       "      <td>0.736614</td>\n",
       "      <td>0.312739</td>\n",
       "      <td>...</td>\n",
       "      <td>0.352796</td>\n",
       "      <td>0.412321</td>\n",
       "      <td>0.403382</td>\n",
       "      <td>0.310551</td>\n",
       "      <td>0.844723</td>\n",
       "      <td>0.587382</td>\n",
       "      <td>0.503613</td>\n",
       "      <td>0.508410</td>\n",
       "      <td>0.501191</td>\n",
       "      <td>0.492262</td>\n",
       "    </tr>\n",
       "    <tr>\n",
       "      <th>max</th>\n",
       "      <td>7.062717</td>\n",
       "      <td>7.387742</td>\n",
       "      <td>6.413603</td>\n",
       "      <td>7.178692</td>\n",
       "      <td>2.679149</td>\n",
       "      <td>2.717237</td>\n",
       "      <td>2.963899</td>\n",
       "      <td>2.857205</td>\n",
       "      <td>7.552440</td>\n",
       "      <td>2.234669</td>\n",
       "      <td>...</td>\n",
       "      <td>2.199291</td>\n",
       "      <td>2.631498</td>\n",
       "      <td>3.065735</td>\n",
       "      <td>2.238555</td>\n",
       "      <td>6.892682</td>\n",
       "      <td>5.968364</td>\n",
       "      <td>7.267837</td>\n",
       "      <td>6.650673</td>\n",
       "      <td>2.723777</td>\n",
       "      <td>2.845665</td>\n",
       "    </tr>\n",
       "  </tbody>\n",
       "</table>\n",
       "<p>8 rows × 232 columns</p>\n",
       "</div>"
      ],
      "text/plain": [
       "          CA1 field     CA2 field     CA3 field     CA4 field  \\\n",
       "count  20869.000000  20869.000000  20869.000000  20869.000000   \n",
       "mean       0.003664      0.017002      0.015315     -0.016633   \n",
       "std        0.924456      1.129368      1.078987      0.897192   \n",
       "min       -4.076424     -5.923691     -5.994731     -3.971984   \n",
       "25%       -0.570475     -0.644093     -0.631248     -0.573605   \n",
       "50%       -0.025821      0.011189      0.006140     -0.044566   \n",
       "75%        0.561571      0.706946      0.706398      0.547903   \n",
       "max        7.062717      7.387742      6.413603      7.178692   \n",
       "\n",
       "       Crus I, lateral hemisphere  Crus I, paravermis  \\\n",
       "count                20869.000000        20869.000000   \n",
       "mean                     0.093686            0.088810   \n",
       "std                      1.146146            1.118501   \n",
       "min                     -2.739924           -2.662897   \n",
       "25%                     -0.802651           -0.778933   \n",
       "50%                      0.100558            0.098665   \n",
       "75%                      0.985159            0.951919   \n",
       "max                      2.679149            2.717237   \n",
       "\n",
       "       Crus II, lateral hemisphere  Crus II, paravermis  \\\n",
       "count                 20869.000000         20869.000000   \n",
       "mean                      0.096118             0.087608   \n",
       "std                       1.172986             1.136823   \n",
       "min                      -2.908676            -2.864308   \n",
       "25%                      -0.824404            -0.794683   \n",
       "50%                       0.109358             0.096585   \n",
       "75%                       1.007791             0.960813   \n",
       "max                       2.963899             2.857205   \n",
       "\n",
       "       Edinger-Westphal nucleus  Heschl's gyrus  ...  \\\n",
       "count              20869.000000    20869.000000  ...   \n",
       "mean                   0.047124       -0.042517  ...   \n",
       "std                    0.973224        0.500526  ...   \n",
       "min                   -3.671242       -1.666268  ...   \n",
       "25%                   -0.651691       -0.414882  ...   \n",
       "50%                    0.022760       -0.057495  ...   \n",
       "75%                    0.736614        0.312739  ...   \n",
       "max                    7.552440        2.234669  ...   \n",
       "\n",
       "       temporal pole, inferior aspect  temporal pole, medial aspect  \\\n",
       "count                    20869.000000                  20869.000000   \n",
       "mean                        -0.056050                     -0.051731   \n",
       "std                          0.567950                      0.651098   \n",
       "min                         -1.840486                     -2.433961   \n",
       "25%                         -0.472481                     -0.517562   \n",
       "50%                         -0.091029                     -0.083971   \n",
       "75%                          0.352796                      0.412321   \n",
       "max                          2.199291                      2.631498   \n",
       "\n",
       "       temporal pole, superior aspect  transverse gyri  trochlear nucleus  \\\n",
       "count                    20869.000000     20869.000000       20869.000000   \n",
       "mean                        -0.049905        -0.039528           0.059726   \n",
       "std                          0.636729         0.494012           1.158916   \n",
       "min                         -2.412614        -1.655962          -6.330275   \n",
       "25%                         -0.529458        -0.404416          -0.751329   \n",
       "50%                         -0.089572        -0.051758           0.037410   \n",
       "75%                          0.403382         0.310551           0.844723   \n",
       "max                          3.065735         2.238555           6.892682   \n",
       "\n",
       "       tuberomammillary nucleus  ventral tegmental area  \\\n",
       "count              20869.000000            20869.000000   \n",
       "mean                   0.014856                0.009535   \n",
       "std                    0.897387                0.686320   \n",
       "min                   -3.141490               -1.977225   \n",
       "25%                   -0.602619               -0.497988   \n",
       "50%                   -0.030474               -0.023799   \n",
       "75%                    0.587382                0.503613   \n",
       "max                    5.968364                7.267837   \n",
       "\n",
       "       ventromedial hypothalamic nucleus  vestibular nuclei  zona incerta  \n",
       "count                       20869.000000       20869.000000  20869.000000  \n",
       "mean                           -0.002853          -0.002527      0.013018  \n",
       "std                             0.830602           0.723977      0.725770  \n",
       "min                            -3.541112          -2.369304     -2.348784  \n",
       "25%                            -0.542164          -0.532177     -0.493921  \n",
       "50%                            -0.023471          -0.045003     -0.031623  \n",
       "75%                             0.508410           0.501191      0.492262  \n",
       "max                             6.650673           2.723777      2.845665  \n",
       "\n",
       "[8 rows x 232 columns]"
      ]
     },
     "execution_count": 33,
     "metadata": {},
     "output_type": "execute_result"
    }
   ],
   "source": [
    "# Try out describe\n",
    "gene_df.describe()"
   ]
  },
  {
   "cell_type": "code",
   "execution_count": 34,
   "metadata": {
    "slideshow": {
     "slide_type": "fragment"
    }
   },
   "outputs": [
    {
     "data": {
      "text/plain": [
       "-0.006323929904501832"
      ]
     },
     "execution_count": 34,
     "metadata": {},
     "output_type": "execute_result"
    }
   ],
   "source": [
    "# Try out mean & std\n",
    "DISC1_data.mean()"
   ]
  },
  {
   "cell_type": "markdown",
   "metadata": {
    "slideshow": {
     "slide_type": "slide"
    }
   },
   "source": [
    "<div class=\"alert alert-success\">\n",
    "\n",
    "**Challenge Task**: Reading Malformed `.csv` Files\n",
    "    \n",
    "</div>\n",
    "\n",
    "`Data/malformed.csv` is a file of comma-separated values, containing the following fields:\n",
    "\n",
    "|column name|description|type|\n",
    "|---|---|---|\n",
    "|`'first'`|first name of person|`str`|\n",
    "|`'last'`|last name of person|`str`|\n",
    "|`'weight'`|weight of person (lbs)|`float`|\n",
    "|`'height'`|height of person (in)|`float`|\n",
    "|`'geo'`|location of person; comma-separated latitude/longitude|`str`|\n",
    "\n",
    "Unfortunately, the entries contains errors with the placement of commas (`,`) and quotes (`\\\"`) that cause `pandas`' `read_csv` function to fail parsing the file with the default settings:"
   ]
  },
  {
   "cell_type": "code",
   "execution_count": null,
   "metadata": {},
   "outputs": [],
   "source": [
    "pd.read_csv('Data/malformed.csv')"
   ]
  },
  {
   "cell_type": "markdown",
   "metadata": {},
   "source": [
    "As a result, instead of using `pd.read_csv`, you must read in the file manually using Python's built-in `open` function."
   ]
  },
  {
   "cell_type": "markdown",
   "metadata": {},
   "source": [
    "### Using the open function\n",
    "The built-in function [`open`](https://docs.python.org/3/tutorial/inputoutput.html#reading-and-writing-files) takes in a file path and returns a file object (sometimes called a file handle), which we can then iterate over:"
   ]
  },
  {
   "cell_type": "code",
   "execution_count": null,
   "metadata": {
    "scrolled": true
   },
   "outputs": [],
   "source": [
    "with open('Data/malformed.csv') as fh:\n",
    "    for line in fh:\n",
    "        print(line)"
   ]
  },
  {
   "cell_type": "markdown",
   "metadata": {},
   "source": [
    "Below, complete the implementation of the function `parse_malformed`, which takes in a file path (`fp`) and returns a parsed, properly-typed DataFrame with the information in the corresponding file. For example, `fp` may be `'Data/malformed.csv'`. The DataFrame should contain the columns described in the data description table above (with the specified types).\n",
    "\n",
    "**Note:**\n",
    "* The only kinds of issues you need your function to handle are comma and quote misplacements; don't try and find any other issues with the CSV.\n",
    "* With that said, you should assume that `Data/malformed.csv` is a sample of a larger file that has the same sorts of errors, but potentially in different lines. For example, `Data/malformed.csv` has an unnecessary quote `\\\"` in line 4, but your function may be called on another CSV that has a perfectly fine line 4 but an unnecessary quote on some other line.\n",
    "* So, **don't** implement `parse_malformed` assuming that the commas and quotes are mispositioned on specific lines; rather, implement `parse_malformed` such that it can handle these issues on every single line they appear in.\n",
    "* A good way to proceed is to open `Data/malformed.csv` and look carefully at the comma and quote placements.\n",
    "* You may want to use `fields = line.strip().split(',')`"
   ]
  },
  {
   "cell_type": "code",
   "execution_count": 9,
   "metadata": {},
   "outputs": [],
   "source": [
    "def parse_malformed(fp):\n",
    "    ..."
   ]
  },
  {
   "cell_type": "code",
   "execution_count": null,
   "metadata": {},
   "outputs": [],
   "source": [
    "parse_malformed('Data/malformed.csv')"
   ]
  },
  {
   "cell_type": "markdown",
   "metadata": {},
   "source": [
    "## Resources\n",
    "Check out the <a href=\"https://docs.scipy.org/doc/numpy/user/index.html\">NumPy user guide</a> if you ever have a question about a NumPy array!"
   ]
  },
  {
   "cell_type": "markdown",
   "metadata": {},
   "source": [
    "## About this notebook\n",
    "This notebook is largely derived from UCSD COGS18 Materials, created by Tom Donoghue & Shannon Ellis, <a href=\"https://github.com/jrjohansson/scientific-python-lectures/blob/master/Lecture-2-Numpy.ipynb\">JR Johannson's Scientific Python Lecture on Numpy</a>, and DSC80 materials \n",
    "\n",
    "\n",
    "Want to run this notebook as a slideshow? If you have Python (or Anaconda) follow <a href=\"http://www.blog.pythonlibrary.org/2018/09/25/creating-presentations-with-jupyter-notebook/\">these instructions</a> to setup your computer with the RISE plugin."
   ]
  }
 ],
 "metadata": {
  "kernelspec": {
   "display_name": "Python 3 (ipykernel)",
   "language": "python",
   "name": "python3"
  },
  "language_info": {
   "codemirror_mode": {
    "name": "ipython",
    "version": 3
   },
   "file_extension": ".py",
   "mimetype": "text/x-python",
   "name": "python",
   "nbconvert_exporter": "python",
   "pygments_lexer": "ipython3",
   "version": "3.9.5"
  },
  "rise": {
   "theme": "serif"
  }
 },
 "nbformat": 4,
 "nbformat_minor": 2
}
