{
 "cells": [
  {
   "cell_type": "markdown",
   "id": "6553d7be",
   "metadata": {},
   "source": [
    "# Jupyter Notebooks \n",
    "This first notebook will introduce you using Jupyter Notebooks for BILD 62 and beyond. \n",
    "\n",
    "### At the end of this notebook, you'll be able to:\n",
    "* Edit and run code and markdown cells in Jupyter Notebooks\n",
    "* Write **expressions** with <b>arithmetic operations</b> in Python\n",
    "\n",
    "<hr>\n",
    "\n",
    "## Part I. About Jupyter Notebooks\n",
    "\n",
    "Jupyter notebooks are a way to combine executable code, code outputs, and text into one connected file. They run in a web browser, but don't require the internet (unless you're running it on the DataHub).\n",
    "\n",
    "The <b>'kernel'</b> is the thing that executes your code. It is what connects the notebook (as you see it) with the part of your computer, or the DataHub computers, that runs code.\n",
    "\n",
    "Jupyter Notebooks have two types of cells, a <b>Markdown</b> (like this one) and <b>Code</b>. In assignments and in viewing lectures, you don't need to run the Markdown cells, just read through them. However, when we get to a code cell, you need to tell Jupyter to run the lines of code that it contains.\n",
    "\n",
    "### Menu Options & Shortcuts\n",
    "To get a quick tour of the Jupyter user-interface, click on the 'Help' menu, then click 'User Interface Tour'. There are also a large number of useful keyboard shortcuts. Click on the 'Help' menu, and then 'Keyboard Shortcuts' to see a list.\n",
    "\n",
    "<span style=\"color:blue\">When you're in <b>Command mode</b>, cells are outlined in blue</span>. <span style=\"color:green\">When you're in <b>Edit mode</b>, blocks are outlined in green</span>.\n",
    "\n",
    "<hr>\n",
    "\n",
    "### Using Markdown\n",
    "Markdown is useful because it can be formatted using simple symbols.\n",
    "* You can create bulleted lists using asterisks.\n",
    "* Similarly, you can create numbered lists using numbers.\n",
    "* You can **bold** with two asterisks or underscores on either side (`**bold**`) or *italicize* with one asterisk or underscore (`*italicize*`)\n",
    "* Pound signs (#) create headers. More pound signs means a smaller header.\n",
    "\n",
    "> **Task**: Edit the markdown cell below with a quick biography of yourself. You should have your name as a big header, a short quippy subtitle for yourself as a smaller header, and a three bullet points that use both **bold** and *italic*.</div>"
   ]
  },
  {
   "cell_type": "markdown",
   "id": "bc524064",
   "metadata": {},
   "source": [
    "< Edit this markdown cell! >"
   ]
  },
  {
   "cell_type": "markdown",
   "id": "3835d452",
   "metadata": {},
   "source": [
    "### Using Code Cells\n",
    "Code cells will be read by the Python interpreter. In other words, the Python kernel will run whatever it recognizes as code within the cell.\n",
    "> **Task**: Run the code cell below (see instructions within the cell)."
   ]
  },
  {
   "cell_type": "code",
   "execution_count": null,
   "id": "ee6f2a80",
   "metadata": {},
   "outputs": [],
   "source": [
    "# In Python, anything with a \"#\" in front of it is code annotation, and is not read by the computer.\n",
    "# Run this cell by clicking in it and then pressing shift and enter/return simultaneously.\n",
    "# The line below will print a message for us. After you import it, Python will print a message.\n",
    "# (having printed messages like these is a really nice way to check that your cell actually ran!)\n",
    "print('Nice work!')"
   ]
  },
  {
   "cell_type": "markdown",
   "id": "4eda1a15",
   "metadata": {},
   "source": [
    "### Creating New Cells\n",
    "In these \"sandbox\" notebooks, you can create your own cells. This is a great way to take notes!\n",
    "\n",
    "> **Task**: Create a cell below this one by using a shortcut (go to Help to get the shortcut key!) or by using the plus sign in the menu above.\n",
    "\n",
    "**NOTE**: Do *not* create new cells in your assignments! This will throw off the automatic grading."
   ]
  },
  {
   "cell_type": "markdown",
   "id": "d106ffbb",
   "metadata": {},
   "source": [
    "## Part II. Python Expressions\n",
    "\n",
    "We can perform various arithmetic operations in Python:\n",
    "\n",
    "| Symbol |    Operation   | Usage |\n",
    "|:------:|:--------------:|:-----:|\n",
    "|    +   |    Addition    |  10+2 |\n",
    "|    -   |   Subtraction  |  10-2 |\n",
    "|    *   | Multiplication |  10*2 |\n",
    "|    /   |    Division    |  10/2 |\n",
    "|   **   |    Exponent    | 10**2 |\n",
    "| %      |    Modulo      |  10%2 |\n",
    "\n",
    "**Notes**:\n",
    "* The default order of operations is the same as in mathematics! (PEMDAS)\n",
    "* Use parentheses to specify that you want an operation to happen first.\n",
    "* If you want a whole number from your division, use // instead"
   ]
  },
  {
   "cell_type": "markdown",
   "id": "827618e0",
   "metadata": {},
   "source": [
    ">**Task**: Try each of the operators above. Before using the modulo operator, predict what it will output, and make sure it produces what you expect.</div>"
   ]
  },
  {
   "cell_type": "code",
   "execution_count": null,
   "id": "8119ad9f",
   "metadata": {},
   "outputs": [],
   "source": [
    "# Let's play with numbers weee\n"
   ]
  },
  {
   "cell_type": "markdown",
   "id": "4d25ed79",
   "metadata": {},
   "source": [
    "That's it for today, nice work!"
   ]
  },
  {
   "cell_type": "code",
   "execution_count": null,
   "id": "f514b4ab",
   "metadata": {},
   "outputs": [],
   "source": [
    "from IPython.display import HTML\n",
    "HTML('<img src=\\\"https://media.giphy.com/media/5L57f5fI3f2716NaJ3/giphy.gif\">')"
   ]
  },
  {
   "cell_type": "markdown",
   "id": "927473bf",
   "metadata": {},
   "source": [
    "<hr>\n",
    "\n",
    "## About this notebook\n",
    "\n",
    "* For more useful information, check out Jupyter Notebooks \n",
    "<a href=\"https://www.dataquest.io/blog/jupyter-notebook-tips-tricks-shortcuts/\" class=\"alert-link\">tips & tricks</a>\n",
    ", and more information on how \n",
    "<a href=\"http://jupyter.readthedocs.io/en/latest/architecture/how_jupyter_ipython_work.html\" class=\"alert-link\">notebooks work</a>."
   ]
  }
 ],
 "metadata": {
  "kernelspec": {
   "display_name": "Python 3",
   "language": "python",
   "name": "python3"
  },
  "language_info": {
   "codemirror_mode": {
    "name": "ipython",
    "version": 3
   },
   "file_extension": ".py",
   "mimetype": "text/x-python",
   "name": "python",
   "nbconvert_exporter": "python",
   "pygments_lexer": "ipython3",
   "version": "3.7.3"
  }
 },
 "nbformat": 4,
 "nbformat_minor": 5
}
