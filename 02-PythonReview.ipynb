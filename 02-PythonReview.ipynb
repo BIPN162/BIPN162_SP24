{
 "cells": [
  {
   "cell_type": "markdown",
   "id": "403dc198",
   "metadata": {},
   "source": [
    "# Python Review #1\n",
    "\n",
    "Complete the tasks in this notebook to review the top things you need to know about Python programming for our course.\n",
    "\n",
    "<hr>"
   ]
  },
  {
   "cell_type": "markdown",
   "id": "30eb0f31",
   "metadata": {},
   "source": [
    "## Task 1: Lists\n",
    "\n",
    "Consider the two lists `list1 = [1, 2, 3]` and `list2 = [4, 5, 6]`. \n",
    "\n",
    "Using these two lists, list addition, indexing and slicing, write Python expressions that result in each of the following:\n",
    "```\n",
    "[1, 2, 3, 4, 5, 6]\n",
    "[1, 2, 3, [4, 5, 6]]\n",
    "[1, 2, [4, 5, 6], 3, 4]\n",
    "```"
   ]
  },
  {
   "cell_type": "code",
   "execution_count": null,
   "id": "7f94d6d3",
   "metadata": {},
   "outputs": [],
   "source": [
    "# Task 1 here\n"
   ]
  },
  {
   "cell_type": "markdown",
   "id": "c6e1f23a",
   "metadata": {},
   "source": [
    "## Task 2: Dictionaries\n",
    "Create a dictionary for your group where each key is the person's name, and the value is their favorite food. Assign it to `food_dictionary`."
   ]
  },
  {
   "cell_type": "code",
   "execution_count": null,
   "id": "2d9d5876",
   "metadata": {},
   "outputs": [],
   "source": [
    "# Task 2 here\n"
   ]
  },
  {
   "cell_type": "markdown",
   "id": "ed1ce5f1",
   "metadata": {},
   "source": [
    "## Task 3: Dictionaries & functions\n",
    "Write a program that takes a sentence as input and counts the frequency of each word. Store the word frequencies in a dictionary where the keys are the words and the values are the counts."
   ]
  },
  {
   "cell_type": "code",
   "execution_count": null,
   "id": "b085b7e4",
   "metadata": {},
   "outputs": [],
   "source": [
    "# Task 3\n"
   ]
  },
  {
   "cell_type": "markdown",
   "id": "dfb167b0",
   "metadata": {},
   "source": [
    "## Task 4: Conditionals, loops, and functions\n",
    "Write a function `sum_even(myList)` containing a loop that will add all the even numbers for the input myList together. For example, `sum_odd([1,2,3,4])` would return 6."
   ]
  },
  {
   "cell_type": "code",
   "execution_count": null,
   "id": "8433fb2a",
   "metadata": {},
   "outputs": [],
   "source": [
    "# Task 4\n"
   ]
  },
  {
   "cell_type": "markdown",
   "id": "e9dd4fad",
   "metadata": {},
   "source": [
    "## Task 5: Loops, conditionals, and user input\n",
    "\n",
    "Write a program that generates a random number between 1 and 100. Ask the user to guess the number. Keep prompting the user for guesses until they guess the correct number. Provide feedback if their guess is too high or too low.\n",
    "\n",
    "**Hint**: Use `input()`!"
   ]
  },
  {
   "cell_type": "code",
   "execution_count": 1,
   "id": "4da53a3e",
   "metadata": {},
   "outputs": [],
   "source": [
    "# Task 5\n"
   ]
  },
  {
   "cell_type": "markdown",
   "id": "659a9c8e",
   "metadata": {},
   "source": [
    "## Task 6:\n",
    "\n",
    "For this task, use the cell below to illustrate whether lists, dictionaries, and strings are mutable. Your code should be clearly commented to illustrate your thought process."
   ]
  },
  {
   "cell_type": "code",
   "execution_count": null,
   "id": "29795fcb",
   "metadata": {},
   "outputs": [],
   "source": [
    "# Task 6\n"
   ]
  },
  {
   "cell_type": "markdown",
   "id": "b6f9f454",
   "metadata": {},
   "source": [
    "## Task 7: Basically everything!\n",
    "\n",
    "Write a program that takes a *list of lists* as input, where each inner list represents the grades of students in a class for a particular subject. The program should calculate the average grade for each subject and output it. Additionally, find and output the student with the highest average grade across all subjects.\n",
    "\n",
    "For example, given the following list of lists:\n",
    "```\n",
    "grades = [\n",
    "    [75, 80, 85],\n",
    "    [60, 65, 70],\n",
    "    [90, 95, 100]\n",
    "]\n",
    "```\n",
    "The program should output:\n",
    "```\n",
    "Average grades for each subject:\n",
    "Subject 1: 75.0\n",
    "Subject 2: 80.0\n",
    "Subject 3: 85.0\n",
    "\n",
    "Student with the highest average grade: Student 3\n",
    "```\n",
    "\n",
    "There are several ways to do this -- try to write code that is as **modular** as possible."
   ]
  },
  {
   "cell_type": "code",
   "execution_count": null,
   "id": "5b386814",
   "metadata": {},
   "outputs": [],
   "source": [
    "# Task 7\n"
   ]
  }
 ],
 "metadata": {
  "kernelspec": {
   "display_name": "Python 3",
   "language": "python",
   "name": "python3"
  },
  "language_info": {
   "codemirror_mode": {
    "name": "ipython",
    "version": 3
   },
   "file_extension": ".py",
   "mimetype": "text/x-python",
   "name": "python",
   "nbconvert_exporter": "python",
   "pygments_lexer": "ipython3",
   "version": "3.7.3"
  }
 },
 "nbformat": 4,
 "nbformat_minor": 5
}
