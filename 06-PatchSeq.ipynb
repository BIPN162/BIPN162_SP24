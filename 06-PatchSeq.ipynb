{
 "cells": [
  {
   "cell_type": "markdown",
   "metadata": {
    "id": "rnP_gPKJz_oZ"
   },
   "source": [
    "## Defining cell types by their molecular features\n",
    "\n",
    "Previously, we compared and contrasted **electrophysiology features**, and **structure** of different cell types in the brain. **Gene expression patterns** are also commonly used to define neuronal cell types. Since at any moment each cell makes mRNA from only a fraction of the genes it carries, by measuring the cell's RNA transcripts we can get a sense of the cell's gene expression patterns. The sum of a cell's RNA transcripts is called its **transcriptome**, and single-cell RNA sequencing (**scRNA-seq**) is one commonly used transcriptomic technology.\n",
    "\n",
    "Here is a list of scRNA-seq data published by the Allen Institute for Brain Science:\n",
    "- Adult mouse cortical cell taxonomy revealed by single cell transcriptomics (Tasic et al. 2016)\n",
    "\n",
    "- Shared and distinct transcriptomic cell types across neocortical areas (Tasic et al. 2018)\n",
    "\n",
    "- A taxonomy of transcriptomic cell types across the isocortex and hippocampal formation (Yao et al. 2021)"
   ]
  },
  {
   "cell_type": "markdown",
   "metadata": {
    "id": "sqeO-KohDT9H"
   },
   "source": [
    "Sequencing data from scRN-seq experiments are usually contained in a matrix of expression values. This matrix is known as a **count matrix**, which contains the number of reads mapped to each gene (row) in each cell (column).\n",
    "\n",
    "### What is a 'read'?\n",
    "In a typical scRNA-Seq experiment, the mRNA molecules are first reverse transcribed into cDNA molecules, which are then amplified and converted into libraries of cDNA fragments. These cDNA libraries are then sequenced, and each sequenced fragment (or read) corresponds to a portion of a cDNA molecule. We can use computer algorithms to align these reads to a reference genome or transcriptome and determine the gene(s) from which each read originates. By counting the number of reads that map to each gene, we can estimate the expression level of individual genes in individual cells."
   ]
  },
  {
   "cell_type": "markdown",
   "metadata": {
    "id": "1vpUQHTpzIw3"
   },
   "source": [
    "## Patch-seq\n",
    "Patch-seq is an experimental technique that combined scRNA-seq with intracellular electrophysiology, which enables one to directly relate the transcriptomic features of a given neuron to other identifying characteristics of the same neuron.\n",
    "![](https://github.com/nuoxuxu/gene-ephys-tutorial/blob/main/figures/schematic_gene.png?raw=true)"
   ]
  },
  {
   "cell_type": "markdown",
   "metadata": {
    "id": "vCBjTOkJ4jS4"
   },
   "source": [
    "## Objectives\n",
    "- Obtaining normalized count matrix from raw read counts\n",
    "- Exploring [Patch-seq dataset](https://linkinghub.elsevier.com/retrieve/pii/S009286742031254X) generated from mouse primary visual cortex.\n",
    "- Correlating gene expression with intracellular electrophsiological features."
   ]
  },
  {
   "cell_type": "markdown",
   "metadata": {
    "id": "ns42j3DWp3Wb"
   },
   "source": [
    "# Tutorial steps\n",
    "1. [Setting up our coding environment](#setup)\n",
    "2. [Obtaining count matrix for the Patch-seq dataset](#patch_seq)\n",
    "3. [Normalizing count matrix](#normalize)\n",
    "4. [Plotting expression levels of ion channel genes](#plot_one_gene)\n",
    "5. [Assigning subclass labels](#labels)\n",
    "6. [Plotting electrophysiological features across subclass](#ephys_subclass)\n",
    "7. [Correlating an electrophysiological feature with the expression of a gene](#gene_ephys_corr)\n",
    "8. [Constructing Gene-ephys Correlation Matrix](#corr_matrix)"
   ]
  },
  {
   "cell_type": "markdown",
   "metadata": {
    "id": "KztKwy46p3Wd"
   },
   "source": [
    "<a name=\"setup\"></a>\n",
    "# Step 1. Setting up our coding environment\n"
   ]
  },
  {
   "cell_type": "markdown",
   "metadata": {
    "id": "SbfELqn_xBUk"
   },
   "source": [
    "## Importing packages"
   ]
  },
  {
   "cell_type": "code",
   "execution_count": null,
   "metadata": {},
   "outputs": [],
   "source": [
    "# Install and then restart the kernel!\n",
    "!pip install seaborn==0.12.2"
   ]
  },
  {
   "cell_type": "code",
   "execution_count": null,
   "metadata": {
    "id": "JaUGgeZHp3Wf"
   },
   "outputs": [],
   "source": [
    "import numpy as np\n",
    "import pandas as pd\n",
    "import matplotlib.pyplot as plt\n",
    "import seaborn as sns\n",
    "import urllib.request\n",
    "import tarfile\n",
    "import io\n",
    "import json\n",
    "import umap\n",
    "import gc\n",
    "import scipy.sparse as sparse\n",
    "%whos"
   ]
  },
  {
   "cell_type": "markdown",
   "metadata": {
    "id": "s3wFT6gD02iI"
   },
   "source": [
    "<a name=\"patch_seq\"></a>\n",
    "# Step 2. Obtaining count matrix for the Patch-seq dataset"
   ]
  },
  {
   "cell_type": "markdown",
   "metadata": {
    "id": "r_7z7s5_p3Wh"
   },
   "source": [
    "## Download count matrix for the Patch-seq dataset from NeMO\n",
    "\n",
    "\n"
   ]
  },
  {
   "cell_type": "markdown",
   "metadata": {
    "id": "Pl49Toh_p3Wi"
   },
   "source": [
    "Run the code cell below to download the count matrix from [The Neuroscience Multi-omic Archive (NeMO)](https://nemoarchive.org/). This step should take around 2 minutes, depending on your internet connection."
   ]
  },
  {
   "cell_type": "code",
   "execution_count": null,
   "metadata": {},
   "outputs": [],
   "source": [
    "!wget \"https://data.nemoarchive.org/other/AIBS/AIBS_patchseq/transcriptome/scell/SMARTseq/processed/analysis/20200611/20200513_Mouse_PatchSeq_Release_count.v2.csv.tar\"\n",
    "!tar -xvf 20200513_Mouse_PatchSeq_Release_count.v2.csv.tar"
   ]
  },
  {
   "cell_type": "markdown",
   "metadata": {
    "id": "iCbmNh_7p3Ww"
   },
   "source": [
    "Since the count matrix was deposited on NeMO as a tar file, we need to extract the csv file from the tar file using the `tarfile` package available as a part of the Python Standard Library, and then read the csv file into a Pandas DataFrame object.\n",
    "\n",
    "**Note**: The cell below can only be run once. It will throw an error if you try to run it again! If you need to run it again for some reason, please restart the kernel."
   ]
  },
  {
   "cell_type": "code",
   "execution_count": null,
   "metadata": {},
   "outputs": [],
   "source": [
    "count_matrix = pd.read_csv('20200513_Mouse_PatchSeq_Release_count.v2/20200513_Mouse_PatchSeq_Release_count.v2.csv')\n",
    "print('count_matrix CSV file loaded as a Pandas DataFrame.')"
   ]
  },
  {
   "cell_type": "markdown",
   "metadata": {
    "id": "aM1UplD7p3Wx"
   },
   "source": [
    "Below, we'll do some cleaning up of the `count_matrix`, and then show it."
   ]
  },
  {
   "cell_type": "code",
   "execution_count": null,
   "metadata": {
    "colab": {
     "base_uri": "https://localhost:8080/",
     "height": 323
    },
    "id": "iTKB4J5Xp3Wx",
    "outputId": "40dac680-5c92-4a25-bdcc-eaf5a03daa24"
   },
   "outputs": [],
   "source": [
    "# Set the index to be the cell ID, and rename it\n",
    "count_matrix.set_index(\"Unnamed: 0\", inplace = True)\n",
    "count_matrix.index.rename('gene_name',inplace = True)\n",
    "\n",
    "# remove genes that are not expressed in any cells\n",
    "count_matrix = count_matrix.iloc[np.flatnonzero(count_matrix.sum(axis = 1) != 0), :]\n",
    "\n",
    "print(f\"There are {count_matrix.shape[1]} cells and {count_matrix.shape[0]} genes in the count matrix:\")\n",
    "\n",
    "# Show the first 5 rows of the count matrix\n",
    "count_matrix.head()"
   ]
  },
  {
   "cell_type": "markdown",
   "metadata": {
    "id": "f-gMXcP8p3Wy"
   },
   "source": [
    "In this count matrix, each row represents one gene and the row names are the gene names, e.g., **0610005C13Rik**.\n",
    "\n",
    "<details>\n",
    "<summary> <font color='blue'>Click here for explanation why this gene has a name that does not seem to make any sense </font></summary>\n",
    "You might wonder why this gene has a name that does not seem to make any sense. This is because 0610005C13Rik is an example of a placeholder name that is often given to genes when they are first discovered. This type of name is typically used when the function of the gene is not yet known. Once the function of a gene is better understood, it may be given a more descriptive name that reflects its function.\n",
    "</details>\n",
    "\n",
    "\n",
    "\n",
    "On the other hand, each column in the count matrix represents one cell and the column names are `transcriptomic_sample_id`, e.g., `PS0810_E1-50_S88`, which uniquely identify the transcriptomic data collected from each cell."
   ]
  },
  {
   "cell_type": "code",
   "execution_count": null,
   "metadata": {},
   "outputs": [],
   "source": [
    "# This cell shows an example of how you could write the count_matrix to a csv and then load it\n",
    "# However, the count_matrix is so big that this really doesn't save much time!\n",
    "#count_matrix.to_csv('count_matrix.csv')\n",
    "#count_matrix = pd.read_csv('count_matrix.csv')"
   ]
  },
  {
   "cell_type": "markdown",
   "metadata": {
    "id": "3ewQPPodp3W0"
   },
   "source": [
    "<a name=\"normalize\"></a>\n",
    "# Step 3. Normalizing gene counts CPM\n"
   ]
  },
  {
   "cell_type": "markdown",
   "metadata": {},
   "source": [
    "Below, we'll import the library size for each cell (more on this later, but for now, we'll get this computationally-intensive step out of the way)."
   ]
  },
  {
   "cell_type": "code",
   "execution_count": null,
   "metadata": {
    "colab": {
     "base_uri": "https://localhost:8080/"
    },
    "id": "Z5SMVbFXp3W1",
    "outputId": "549d35d8-7be2-43f0-bd52-a5e3cf6a7838"
   },
   "outputs": [],
   "source": [
    "# Import precomputed library sizes for each cell, each row contains the library size for one cell\n",
    "original_lib_size = pd.read_csv(urllib.request.urlopen(\"https://raw.githubusercontent.com/nuoxuxu/gene-ephys-tutorial/main/data/lib_size.csv\"), sep = \"\\t\", index_col = 0)\n",
    "\n",
    "# Remove cells that contain NA values\n",
    "lib_size = original_lib_size.dropna().loc[original_lib_size.library_size != 0]\n",
    "\n",
    "# Remove the cells that have been removed in the previous step from lib_size\n",
    "count_matrix = count_matrix.loc[:, count_matrix.columns.isin(lib_size.index)]\n",
    "\n",
    "print(f\"{len(original_lib_size) - len(lib_size)} cells were dropped.\")\n",
    "\n",
    "# Plot a heatmap, similar to the website! Note: this takes a long time\n",
    "# count_matrix.style.background_gradient(cmap ='RdBu_r')"
   ]
  },
  {
   "cell_type": "markdown",
   "metadata": {
    "id": "TGelrB19PXGo"
   },
   "source": [
    "The `count_matrix` DataFrame contains raw read counts. \n",
    "\n",
    "<div class=\"alert alert-success\"><b>Task</b>: Create a histogram below showing the <b>sum</b> of raw read counts detected in individual cells. You can use the sum method (<code>sum()</code>) on your <code>count_matrix</code> dataframe, specifying <code>axis = 0</code> to sum all reads per cell. Set the number of bins to 20 for a bit more resolution on the histogram.</div>"
   ]
  },
  {
   "cell_type": "code",
   "execution_count": null,
   "metadata": {
    "colab": {
     "base_uri": "https://localhost:8080/",
     "height": 467
    },
    "id": "wwFbyle6HF-7",
    "outputId": "fd68a000-b559-4593-8115-3857108c68b6",
    "scrolled": true
   },
   "outputs": [],
   "source": [
    "# Add your plotting line below\n",
    "\n",
    "plt.xlabel(\"Sum of read counts\")\n",
    "plt.ylabel(\"Number of cells\")\n",
    "plt.show()"
   ]
  },
  {
   "cell_type": "markdown",
   "metadata": {
    "id": "uNyAa65Dp3W1"
   },
   "source": [
    "As we can see, there is a wide distribution (notice 1e6 on x axis!), which is largely due to the variability inherent in the experimental technologies used to obtain the read counts, rather than biological variability. Thus, to compare gene expression levels between cells, we need to **normalize** the raw read counts for differences in total number of reads per cells.\n",
    "\n",
    "One common way to normalize read counts is to calculate **counts per million (CPM)**, which is obtained by dividing read counts for genes by the sum of raw read counts in that cell, also known as **library size**, and multiplying the results by a million, respectively. We imported those values above, and now we can compute the CPM."
   ]
  },
  {
   "cell_type": "markdown",
   "metadata": {
    "id": "dhKN8-g5p3Xe"
   },
   "source": [
    "### Calculating cpm\n",
    "\n",
    "<div class=\"alert alert-success\"><b>Task</b>: Calculate counts per million for <code>count_matrix</code>, using precomputed library sizes provided in <code>lib_size</code>.</div>\n",
    "\n",
    "- Note that `lib_size` is a DataFrame where the index stores the `transcriptomic_sample_id`, and the library size of the corresponding cell is stored in the `library_size` column\n",
    "- To convert raw read counts for all genes expressed in a cell, we need to divide the raw read counts for each gene by the library size of the cell (which is the total number of reads) and then multiply this number by a factor of 100000.\n",
    "- Below is an example of how to calculate counts per million for one cell. Your task is to calculate CPM for all cells in `count_matrix`"
   ]
  },
  {
   "cell_type": "markdown",
   "metadata": {
    "id": "Lxew4D6jah24"
   },
   "source": [
    "For the cell whose `transcriptomic_sample_id` is `PS0817_E1-50_S19`, we can extract its `library_size` using the following code:"
   ]
  },
  {
   "cell_type": "code",
   "execution_count": null,
   "metadata": {
    "colab": {
     "base_uri": "https://localhost:8080/"
    },
    "id": "uXmitEAFp3Xe",
    "outputId": "b0185dfc-a10b-47c3-9036-bf8f7dcb11a3"
   },
   "outputs": [],
   "source": [
    "example_lib_size = lib_size.loc['PS0817_E1-50_S19', 'library_size']\n",
    "print(f\"The library size for cell PS0817_E1-50_S19 is {example_lib_size}.\")"
   ]
  },
  {
   "cell_type": "markdown",
   "metadata": {
    "id": "16kPZeE2atIq"
   },
   "source": [
    "The raw read counts of all genes expressed in a cell whose `transcriptomic_sample_id` is `PS0817_E1-50_S19` would be"
   ]
  },
  {
   "cell_type": "code",
   "execution_count": null,
   "metadata": {
    "colab": {
     "base_uri": "https://localhost:8080/"
    },
    "id": "7M7y5vXKp3Xf",
    "outputId": "17b5ea25-e05b-4729-87c3-16f0e2a54343"
   },
   "outputs": [],
   "source": [
    "count_matrix[\"PS0817_E1-50_S19\"]"
   ]
  },
  {
   "cell_type": "markdown",
   "metadata": {
    "id": "-KRyoD39a8Xe"
   },
   "source": [
    "To calculate the CPM of a gene in a cell, we need to divide the raw read count of all genes expressed in this cell by the library size of this cell, and then multiply the result by a factor of 1000000\n"
   ]
  },
  {
   "cell_type": "code",
   "execution_count": null,
   "metadata": {
    "colab": {
     "base_uri": "https://localhost:8080/"
    },
    "id": "84htBMOdp3Xh",
    "outputId": "58fbec36-5863-4845-d901-63b0214ae8f8"
   },
   "outputs": [],
   "source": [
    "count_matrix['PS0817_E1-50_S19'] / lib_size.loc['PS0817_E1-50_S19', 'library_size'] * 1000000"
   ]
  },
  {
   "cell_type": "markdown",
   "metadata": {
    "id": "YAnEJ97sbIbH"
   },
   "source": [
    "<div class=\"alert alert-success\"><b>Task (continued)</b>: Using a <code>for</code> loop, can you compute the CPM for all cells and assign the result to the corresponding entry in the <code>count_matrix</code>?</div>\n",
    "\n",
    "**Hint 1**: `count_matrix.columns` returns a list of all `transcriptomic_sample_id`, you can iterate over this list to compute the CPM for each cell\n",
    "\n",
    "**Hint 2**: use the example for one cell above as a reference."
   ]
  },
  {
   "cell_type": "code",
   "execution_count": null,
   "metadata": {},
   "outputs": [],
   "source": [
    "# First, we need to create an empty list to store the CPM for each cell\n",
    "\n",
    "# cpm = []\n",
    "\n",
    "# Then, for each cell, we compute the CPM and append it to the list\n",
    "\n",
    "# for column in count_matrix.columns:\n",
    "#     cpm.append(...)\n",
    "\n",
    "# Finally, we concatenate the list of CPM into a dataframe (Hint: use pd.concat)\n",
    "\n",
    "# cpm = ..."
   ]
  },
  {
   "cell_type": "markdown",
   "metadata": {
    "id": "1OofdD-7hHsc"
   },
   "source": [
    "Below, we'll inspect the normalized count matrix `cpm`:"
   ]
  },
  {
   "cell_type": "code",
   "execution_count": null,
   "metadata": {
    "colab": {
     "base_uri": "https://localhost:8080/",
     "height": 304
    },
    "id": "KsLA4FTep3Xi",
    "outputId": "664f3d2c-3441-48b4-c2e5-1b00024a8a81"
   },
   "outputs": [],
   "source": [
    "cpm.head()"
   ]
  },
  {
   "cell_type": "markdown",
   "metadata": {},
   "source": [
    "**Transpose** `cpm` so that each row is one cell and each column is one gene."
   ]
  },
  {
   "cell_type": "code",
   "execution_count": null,
   "metadata": {},
   "outputs": [],
   "source": [
    "cpm = cpm.T\n",
    "cpm.head()"
   ]
  },
  {
   "cell_type": "markdown",
   "metadata": {
    "id": "vVteIPiBhMvZ"
   },
   "source": [
    "The normalized read counts are often log-transformed for visualization purposes"
   ]
  },
  {
   "cell_type": "code",
   "execution_count": null,
   "metadata": {
    "id": "iFWTFM5vp3Xj"
   },
   "outputs": [],
   "source": [
    "cpm = np.log2(cpm + 1)"
   ]
  },
  {
   "cell_type": "markdown",
   "metadata": {},
   "source": [
    "### Side Note: What does \"log scaling\" do to our data?"
   ]
  },
  {
   "cell_type": "code",
   "execution_count": null,
   "metadata": {},
   "outputs": [],
   "source": [
    "# Generate skewed data\n",
    "np.random.seed(0)\n",
    "data = np.random.exponential(scale=1, size=1000)\n",
    "data_log = np.log(data) # change to log2 if you'd like!\n",
    "\n",
    "print(data[:10])\n",
    "print(data_log[:10])"
   ]
  },
  {
   "cell_type": "code",
   "execution_count": null,
   "metadata": {},
   "outputs": [],
   "source": [
    "plt.hist(data, bins=30, edgecolor='black',alpha=0.5,label='Original')\n",
    "plt.hist(data_log, bins=30, edgecolor='black',alpha=0.5,label='Log Scaled')\n",
    "plt.xlabel('Values')\n",
    "plt.ylabel('Frequency')\n",
    "plt.legend()\n",
    "plt.show()"
   ]
  },
  {
   "cell_type": "markdown",
   "metadata": {
    "id": "fdOgA-5Ip3Xk"
   },
   "source": [
    "<a name=\"plot_one_gene\"></a>\n",
    "# Step 4. Plotting expression levels of ion channel genes"
   ]
  },
  {
   "cell_type": "markdown",
   "metadata": {
    "id": "FUSG0HAcp3Xk"
   },
   "source": [
    "Now that we have normalized and log-transformed the raw read counts, we can present the expression levels of selected genes in all cells as a boxplot. The code below creates a boxplot of expression levels of Kv3 voltage-gated potassium channels (Kcnc1, Kcnc2, Kcnc3 and Kcnc4). These channels are known to contribute to neurons' ability to generate high-frequency activity."
   ]
  },
  {
   "cell_type": "code",
   "execution_count": null,
   "metadata": {
    "id": "7IaFYbtnp3Xk"
   },
   "outputs": [],
   "source": [
    "# You can put any genes in this list\n",
    "gene_list = [\"Kcnc1\", \"Kcnc2\", \"Kcnc3\", \"Kcnc4\"]\n",
    "\n",
    "# Reshape the DataFrame using melt (only necessary for sns==0.11.1)\n",
    "#melted_cpm = pd.melt(cpm[gene_list], var_name=\"Gene\")"
   ]
  },
  {
   "cell_type": "code",
   "execution_count": null,
   "metadata": {},
   "outputs": [],
   "source": [
    "# Plot the melted DataFrame\n",
    "#sns.boxplot(x=\"Gene\", y=\"value\", data=melted_cpm) #for sns==0.11\n",
    "sns.boxplot(cpm[gene_list]) # simpler syntax, only works with sns==0.12.1\n",
    "\n",
    "plt.xlabel('Genes')\n",
    "plt.ylabel('log(CPM + 1)')\n",
    "plt.show()"
   ]
  },
  {
   "cell_type": "markdown",
   "metadata": {
    "id": "cNZfEyhHp3Xl"
   },
   "source": [
    "However, plotting the expression levels of genes across all cells in the dataset like this is not very helpful. What we want to know is whether the expression level of a gene is different between different neuronal subclasses. Since this dataset contains subclass label for each neuron, we can try to address this question by plotting gene expression across different subclasses."
   ]
  },
  {
   "cell_type": "markdown",
   "metadata": {
    "id": "p-uEZqstp3Xm"
   },
   "source": [
    "<a name=\"labels\"></a>\n",
    "# Step 5. Assigning subclass labels"
   ]
  },
  {
   "cell_type": "markdown",
   "metadata": {
    "id": "p0V2LUCtp3Xm"
   },
   "source": [
    "## Obtaining subclass labels\n",
    "\n",
    "Since each neuron has already been assigned a subclass label in the paper, our task is to obtain subclass labels (as defined in the original paper) for each cell in `cpm`.\n",
    "\n",
    "<details>\n",
    "<summary> <font color='blue'>Click here for explanation how this was done </font></summary>\n",
    "    \n",
    "First, we need to convert the `transcriptomics_sample_id` for each column in `cpm` to `cell_specimen_id`. This is because the mapping from each cell to the cell type it is assigned to is stored in a csv file where each row (represents one cell) is identified by  `cell_specimen_id` only.\n",
    "This step is also necessary for correlating transcriptomic signatures with electrophysiological data, because electrophysiological data are provided in another csv file where `cell_specimen_id` is the only identifier for each cell. After this conversion step we can merge transcriptomic and electrophysiological data based on this shared label:  `cell_specimen_id`.\n",
    "    \n",
    "</details>\n",
    "\n",
    "\n"
   ]
  },
  {
   "cell_type": "code",
   "execution_count": null,
   "metadata": {
    "colab": {
     "base_uri": "https://localhost:8080/",
     "height": 256
    },
    "id": "7JcAY7VD0imJ",
    "outputId": "946ab4bb-1089-408b-b54a-ed1ba198c5dc"
   },
   "outputs": [],
   "source": [
    "# Execute this block of code to assign cell subclass labels to all cells\n",
    "\n",
    "# From the patchseq_metadata file downloaded from the Allen Institute website, we can obtain a mapping from transcriptomics_sample_id to cell_specimen_id\n",
    "url = \"https://raw.githubusercontent.com/nuoxuxu/gene-ephys-tutorial/main/data/20200625_patchseq_metadata_mouse.csv\"\n",
    "metadata = pd.read_csv(urllib.request.urlopen(url), usecols = [\"cell_specimen_id\",  \"transcriptomics_sample_id\"])\\\n",
    "    .set_index(\"transcriptomics_sample_id\")\\\n",
    "    .to_dict()[\"cell_specimen_id\"]\n",
    "\n",
    "# From the SpecimenMetadata file downloaded from the Allen Institute website, we can obtain a mapping from cell_specimen_id to subclass\n",
    "url = \"https://raw.githubusercontent.com/nuoxuxu/gene-ephys-tutorial/main/data/SpecimenMetadata.csv\"\n",
    "ID_to_subclass = pd.read_csv(urllib.request.urlopen(url), usecols=[\"Specimen ID\", \"T type sub-class\"], index_col=0) \\\n",
    "    ['T type sub-class'].str.replace(' interneuron', '') \\\n",
    "    .to_dict()"
   ]
  },
  {
   "cell_type": "code",
   "execution_count": null,
   "metadata": {},
   "outputs": [],
   "source": [
    "# Convert column names from transcriptomics_sample_id to subclass labels\n",
    "cpm = cpm.assign(subclass = cpm.index.map(metadata).map(ID_to_subclass))\n",
    "\n",
    "# Subset for cells that belong to the 5 most abundant subclasses\n",
    "cpm = cpm.loc[cpm.subclass.isin([\"Pvalb\", \"Sst\", \"Sncg\", \"Lamp5\", \"Vip\"])]\n",
    "\n",
    "# Show the first 5 rows of the dataframe\n",
    "cpm.head()"
   ]
  },
  {
   "cell_type": "markdown",
   "metadata": {
    "id": "9D8-e5gqp3Xr"
   },
   "source": [
    "## Expression of *Kcnc2* across subclasses\n",
    "\n",
    "After assigning subclass label to each cell, we can plot the expression levels of genes across subclasses. Since *Kcnc2* is the most abundant gene in this dataset, we will plot the expression level of Kcnc2 across neuronal subclasses."
   ]
  },
  {
   "cell_type": "code",
   "execution_count": null,
   "metadata": {
    "colab": {
     "base_uri": "https://localhost:8080/",
     "height": 467
    },
    "id": "yj50luxZp3Xr",
    "outputId": "409060dd-1195-4b71-9957-43643a3bcc40"
   },
   "outputs": [],
   "source": [
    "sns.boxplot(cpm[[\"subclass\", \"Kcnc2\"]], x = \"subclass\", y = \"Kcnc2\",\n",
    "            order = [\"Pvalb\", \"Sst\", \"Sncg\", \"Lamp5\", \"Vip\"])\n",
    "plt.show()"
   ]
  },
  {
   "cell_type": "markdown",
   "metadata": {
    "id": "lEMShbBPp3Xs"
   },
   "source": [
    "This plot shows that *Kcnc2* expression is higher in the *Pvalb* interneurons, which are known to encompass fast-spiking interneurons."
   ]
  },
  {
   "cell_type": "markdown",
   "metadata": {
    "id": "PU8olWe-1mR1"
   },
   "source": [
    "## UMAP visualization"
   ]
  },
  {
   "cell_type": "markdown",
   "metadata": {
    "id": "JAsLGXnUXqRI"
   },
   "source": [
    "Uniform manifold approximation and projection (UMAP) is a dimensionality reduction algorithm commonly used to visualize  high-dimensional data on a two-dimensional space. Here, we can see that the cells that belong to the same subclass are close to each other in the 2D UMAP space.\n",
    "\n",
    "**Note**: The cell below is computationally-intensive and takes several minutes to run. You can click on the box below to see the image it will produce."
   ]
  },
  {
   "cell_type": "code",
   "execution_count": null,
   "metadata": {
    "id": "x91qQVVh1-l2",
    "scrolled": true
   },
   "outputs": [],
   "source": [
    "reducer = umap.UMAP()\n",
    "\n",
    "# get the subclass and gene labels and sparse matrices from `cpm`\n",
    "subclass_labels = cpm[\"subclass\"]\n",
    "gene_names = cpm.columns.values\n",
    "sparse_cpm = sparse.csr_matrix(cpm.drop(columns = \"subclass\"))\n",
    "\n",
    "embedding = reducer.fit_transform(sparse_cpm)"
   ]
  },
  {
   "cell_type": "code",
   "execution_count": null,
   "metadata": {
    "scrolled": true
   },
   "outputs": [],
   "source": [
    "fig, axs = plt.subplots(1, 2, figsize = (8, 4), sharey = True)\n",
    "for i, subclass in enumerate(subclass_labels.unique()):\n",
    "    axs[0].plot(\n",
    "        embedding[np.flatnonzero(subclass_labels == subclass), 0],\n",
    "        embedding[np.flatnonzero(subclass_labels == subclass), 1],\n",
    "        'o', markersize = 3,\n",
    "        label = subclass)\n",
    "axs[0].legend()\n",
    "axs[1].scatter(embedding[:, 0], embedding[:, 1], s = 10, c = sparse_cpm[:, np.where(gene_names == \"Tyrobp\")[0][0]].toarray(), label = \"Tyrobp\")\n",
    "axs[1].legend()\n",
    "plt.show()"
   ]
  },
  {
   "cell_type": "markdown",
   "metadata": {},
   "source": [
    "<details>\n",
    "<summary> <font color='blue'>In case you do not get the cell above to run, here's what you should see!</font></summary>\n",
    "    \n",
    "![image](Data/umap.png)\n",
    "    \n",
    "</details>\n",
    "\n"
   ]
  },
  {
   "cell_type": "markdown",
   "metadata": {
    "id": "SCAv9Gxop3Xt"
   },
   "source": [
    "<a name=\"ephys_subclass\"></a>\n",
    "# Step 6. Plotting electrophysiological features across subclass"
   ]
  },
  {
   "cell_type": "markdown",
   "metadata": {
    "id": "mCrlP3uApynS"
   },
   "source": [
    "## Importing extracted electrophysiological features"
   ]
  },
  {
   "cell_type": "markdown",
   "metadata": {
    "id": "hXHDEM14p3Xu"
   },
   "source": [
    "How do we know that *Pvalb* neurons are fast-spiking? We can import electrophysiological data from the `SpecimenMetadata` file"
   ]
  },
  {
   "cell_type": "code",
   "execution_count": null,
   "metadata": {
    "id": "kZJMR1zdp3Xv"
   },
   "outputs": [],
   "source": [
    "# You can import any ephys features that are contained in SpecimenMetadata\n",
    "column_list = ['Specimen ID', 'Avg ISI', 'Fast trough V (long square) (millivolts)', 'Trough V (long square) (millivolts)', 'Peak V (long square) (millivolts)', 'Peak V (short square) (millivolts)',\\\n",
    "                   'Upstroke/downstroke ratio (long square)', 'Threshold V (long square) (millivolts)', 'F I curve slope', 'sag', 'tau', 'Vrest (millivolts)']\n",
    "\n",
    "# import the ephys features from SpecimenMetadata, only using the columns in column_list\n",
    "ephys_data = pd.read_csv(\n",
    "    urllib.request.urlopen(\"https://raw.githubusercontent.com/nuoxuxu/gene-ephys-tutorial/main/data/SpecimenMetadata.csv\"),\n",
    "    usecols=column_list, index_col=0)\n",
    "\n",
    "# Assigning the subclass label to each cell\n",
    "ephys_data[\"subclass\"] = ephys_data.index.map(ID_to_subclass)\n",
    "\n",
    "# Subset for cells that belong to the 5 most abundant subclasses\n",
    "ephys_data = ephys_data.loc[ephys_data[\"subclass\"].isin([\"Pvalb\", \"Sst\", \"Sncg\", \"Lamp5\", \"Vip\"])]"
   ]
  },
  {
   "cell_type": "code",
   "execution_count": null,
   "metadata": {},
   "outputs": [],
   "source": [
    "# This takes time to generate; it's not necessary to do so\n",
    "ephys_data.head()"
   ]
  },
  {
   "cell_type": "markdown",
   "metadata": {
    "id": "ujvqKVnJp5Sw"
   },
   "source": [
    "## Plotting electrophysiological features across subclass"
   ]
  },
  {
   "cell_type": "markdown",
   "metadata": {
    "id": "-vuAVX8K0n86"
   },
   "source": [
    "We can plot the values of any electrophysiological properties across the five subclass. *F I curve* is the slope of the curve between firing rate (f) and current injected. It is commonly used for distinguishing fast spiking interneurons. The figure shows that *Pvalb* neurons have higher *F I slope* than the rest."
   ]
  },
  {
   "cell_type": "code",
   "execution_count": null,
   "metadata": {
    "colab": {
     "base_uri": "https://localhost:8080/",
     "height": 449
    },
    "id": "F39dhGsUp3Xx",
    "outputId": "ccf156fa-8aac-4ac1-d531-55ed4a871a92"
   },
   "outputs": [],
   "source": [
    "sns.boxplot(ephys_data, x=\"subclass\", y=\"F I curve slope\", order=[\"Pvalb\", \"Sst\", \"Sncg\", \"Lamp5\", \"Vip\"])\n",
    "plt.show()"
   ]
  },
  {
   "cell_type": "markdown",
   "metadata": {
    "id": "-HpxIvqLp3Xy"
   },
   "source": [
    "<a name=\"gene_ephys_corr\"></a>\n",
    "# Step 7. Correlating an electrophysiological feature with the expression of a gene"
   ]
  },
  {
   "cell_type": "markdown",
   "metadata": {
    "id": "Eiy4Gycep3Xz"
   },
   "source": [
    "We have shown that *Kcnc2* is more abundant in Pvalb neurons and that Pvalb neurons have higher values of F I curve slope than other neuronal subclasses. \n",
    "looked at how gene expression levels and electrophysiological features could vary across neuronal subclasses, respectively. These two observations suggest that expression level of *Kcnc2* could be directly correlated with F I curve slope.\n",
    "\n",
    "The unique advantage of Patch-seq is that we have both transcriptomic and electrophysiological data for the same cells, which allows us to directly correlate the two. \n"
   ]
  },
  {
   "cell_type": "markdown",
   "metadata": {},
   "source": [
    "## Plotting gene expression against electrophysiological feature\n",
    "Here we are plotting the expression level of *Kcnc2* against F I curve slope, colored by subclass. You can substitute the electrophysiological features and genes with any entries in `cpm` and `ephys_data`."
   ]
  },
  {
   "cell_type": "code",
   "execution_count": null,
   "metadata": {},
   "outputs": [],
   "source": [
    "F_I_slope = ephys_data[[\"F I curve slope\", \"subclass\"]]"
   ]
  },
  {
   "cell_type": "code",
   "execution_count": null,
   "metadata": {},
   "outputs": [],
   "source": [
    "Kcnc2 = cpm[\"Kcnc2\"]\n",
    "Kcnc2.index = Kcnc2.index.map(metadata)"
   ]
  },
  {
   "cell_type": "code",
   "execution_count": null,
   "metadata": {},
   "outputs": [],
   "source": [
    "df = pd.merge(Kcnc2, F_I_slope, how = \"inner\", left_index = True, right_index = True)"
   ]
  },
  {
   "cell_type": "code",
   "execution_count": null,
   "metadata": {},
   "outputs": [],
   "source": [
    "sns.lmplot(df, x = \"Kcnc2\", y = \"F I curve slope\", hue = \"subclass\", scatter_kws = {\"s\":10, \"alpha\":0.4})\n",
    "plt.show()"
   ]
  },
  {
   "cell_type": "markdown",
   "metadata": {},
   "source": [
    "Because of technical variability in scRNA-seq data, we need to pool raw read counts from cells that belong to the same transcriptomic type (one neuronal subclass contains multiple transcriptomic types), and then normalize and transform the pooled read counts. As a result of this operation, we will have one expression value for each gene for one transcriptomic type. Then we will correlated this \"pooled\" expression value with the median electrophysiological values of cells within the corresponding transcriptomic type."
   ]
  },
  {
   "cell_type": "code",
   "execution_count": null,
   "metadata": {},
   "outputs": [],
   "source": [
    "# Obtain mapping from transcriptomic_specimen_ID to T type\n",
    "ID_to_ttype = pd.read_csv(urllib.request.urlopen(url), usecols=[\"Specimen ID\", \"T type\"], index_col=0)\\\n",
    "    ['T type']\\\n",
    "    .to_dict()"
   ]
  },
  {
   "cell_type": "code",
   "execution_count": null,
   "metadata": {
    "colab": {
     "base_uri": "https://localhost:8080/",
     "height": 327
    },
    "id": "lANwtXnpcdmF",
    "outputId": "feb171c0-4bec-450b-ffa2-738dfb8a3dbd"
   },
   "outputs": [],
   "source": [
    "# Get median F I curve slop values for each T type\n",
    "median_F_I_slope = ephys_data.assign(ttype = ephys_data.index.map(ID_to_ttype)).groupby(\"ttype\")[\"F I curve slope\"].median()"
   ]
  },
  {
   "cell_type": "code",
   "execution_count": null,
   "metadata": {},
   "outputs": [],
   "source": [
    "# Get median expression values of Kcnc2 for each T type\n",
    "median_Kcnc2 = cpm.assign(ttype = cpm.index.map(metadata).map(ID_to_ttype)).groupby(\"ttype\")[\"Kcnc2\"].median()"
   ]
  },
  {
   "cell_type": "code",
   "execution_count": null,
   "metadata": {},
   "outputs": [],
   "source": [
    "# Concatenate `median_F_I_slope` and `median_Kcnc2` into a Pandas DataFrame for plotting in Seaborn\n",
    "Kcnc2_F_I_slope = pd.concat([median_Kcnc2, median_F_I_slope], axis = 1)"
   ]
  },
  {
   "cell_type": "code",
   "execution_count": null,
   "metadata": {},
   "outputs": [],
   "source": [
    "sns.lmplot(Kcnc2_F_I_slope, x = \"Kcnc2\", y = \"F I curve slope\")\n",
    "plt.show()"
   ]
  },
  {
   "cell_type": "markdown",
   "metadata": {
    "id": "PnPlLUo9p3X2"
   },
   "source": [
    "This plot shows that there is a positive correlation between T type-specific expression of *Kcnc2* and *F I curve slope*."
   ]
  },
  {
   "cell_type": "markdown",
   "metadata": {
    "id": "0DoRUVebp3X3"
   },
   "source": [
    "<a name=\"corr_matrix\"></a>\n",
    "# Step 8. Constructing Gene-ephys Correlation Matrix"
   ]
  },
  {
   "cell_type": "markdown",
   "metadata": {
    "id": "Q32cCmHnoX04"
   },
   "source": [
    "In the *Kcnc2* example we looked at how the expression of one gene could be correlated to one electrophysiological feature. We can compute correlations between all ion channel genes and all electrophysiological features in the dataset."
   ]
  },
  {
   "cell_type": "markdown",
   "metadata": {
    "id": "zt2X6OGD8axD"
   },
   "source": [
    "## Subsetting for genes that code for voltage-gated ion channels\n",
    "Below, the `IC_list` file contains a dictionary of genes that encode for ion channels."
   ]
  },
  {
   "cell_type": "code",
   "execution_count": null,
   "metadata": {
    "id": "aJvuJ6PXo28f"
   },
   "outputs": [],
   "source": [
    "# Download the list of voltage-gated ion channel genes (VGICs)\n",
    "IC_list = json.load(urllib.request.urlopen(\"https://raw.githubusercontent.com/nuoxuxu/gene-ephys-tutorial/main/data/IC_list.json\"))\n",
    "\n",
    "# remove genes that are not in `cpm`\n",
    "IC_list['VGIC'].remove(\"Trpc2\")\n",
    "IC_list['VGIC'].remove(\"Scn2a\")"
   ]
  },
  {
   "cell_type": "markdown",
   "metadata": {
    "id": "GuHjeywFp3X4"
   },
   "source": [
    "To construct a matrix where each entry is the Pearson's correlation coefficient between one electrophysiological property and expression level of one gene, we need to make sure that exactly the same cells are present in both DataFrames and that they are in the same order."
   ]
  },
  {
   "cell_type": "code",
   "execution_count": null,
   "metadata": {},
   "outputs": [],
   "source": [
    "cpm_ttype = cpm.assign(ttype = cpm.index.map(metadata).map(ID_to_ttype)).drop(columns = \"subclass\").groupby(\"ttype\").median()[IC_list['VGIC']]"
   ]
  },
  {
   "cell_type": "code",
   "execution_count": null,
   "metadata": {
    "colab": {
     "base_uri": "https://localhost:8080/",
     "height": 545
    },
    "id": "8FISDPz-Z2Ui",
    "outputId": "91e8863d-6870-454b-d40d-003ab7df8f4a"
   },
   "outputs": [],
   "source": [
    "ephys_data_ttype = ephys_data.assign(ttype = ephys_data.index.map(ID_to_ttype)).drop(columns = \"subclass\").groupby(\"ttype\").median()"
   ]
  },
  {
   "cell_type": "markdown",
   "metadata": {
    "id": "OqZoYOzTpONp"
   },
   "source": [
    "Calculating the correlation matrix between the expression of ion channel genes and electrophysiology features\n"
   ]
  },
  {
   "cell_type": "code",
   "execution_count": null,
   "metadata": {
    "colab": {
     "base_uri": "https://localhost:8080/",
     "height": 297
    },
    "id": "wdMp9-Clp3X4",
    "outputId": "65075bd8-4302-4467-f424-bb2be096e47c"
   },
   "outputs": [],
   "source": [
    "corr_matrix = np.corrcoef(\n",
    "    np.hstack([cpm_ttype.to_numpy(), ephys_data_ttype.to_numpy()]), rowvar=False)\\\n",
    "        [:cpm_ttype.shape[1], -ephys_data_ttype.shape[1]:]"
   ]
  },
  {
   "cell_type": "markdown",
   "metadata": {
    "id": "vMgm7Ke4pQyd"
   },
   "source": [
    "## Plotting the correlation matrix\n",
    "\n",
    "**Note**: This cell will take some time to generate!"
   ]
  },
  {
   "cell_type": "code",
   "execution_count": null,
   "metadata": {
    "id": "tP9bGL4yp3X5"
   },
   "outputs": [],
   "source": [
    "fig, ax = plt.subplots(figsize = (10, 22))\n",
    "sns.heatmap(\n",
    "    corr_matrix, cmap = \"RdBu_r\", center = 0,\n",
    "    xticklabels = ephys_data.columns,\n",
    "    yticklabels = cpm.columns\n",
    "    )\n",
    "\n",
    "# rotate the xticklabels\n",
    "plt.xticks(rotation=45, ha='right')\n",
    "\n",
    "plt.show()"
   ]
  },
  {
   "cell_type": "markdown",
   "metadata": {},
   "source": [
    "<details>\n",
    "<summary> <font color='blue'>In case you do not get the cell above to run, here's what you should see!</font></summary>\n",
    "    \n",
    "![image](Data/corrmatrix.png)\n",
    "    \n",
    "</details>"
   ]
  },
  {
   "cell_type": "markdown",
   "metadata": {},
   "source": [
    "<hr>\n",
    "\n",
    "## About this notebook\n",
    "This notebook was created by Nuo Xu, a physiology PhD student at the University of Toronto. It was edited for classes at UC San Diego by Ashley Juavinett."
   ]
  }
 ],
 "metadata": {
  "colab": {
   "provenance": [],
   "toc_visible": true
  },
  "kernelspec": {
   "display_name": "Python 3",
   "language": "python",
   "name": "python3"
  },
  "language_info": {
   "codemirror_mode": {
    "name": "ipython",
    "version": 3
   },
   "file_extension": ".py",
   "mimetype": "text/x-python",
   "name": "python",
   "nbconvert_exporter": "python",
   "pygments_lexer": "ipython3",
   "version": "3.7.3"
  }
 },
 "nbformat": 4,
 "nbformat_minor": 4
}
